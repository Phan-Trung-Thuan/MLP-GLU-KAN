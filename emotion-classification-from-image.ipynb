{
  "nbformat": 4,
  "nbformat_minor": 0,
  "metadata": {
    "colab": {
      "provenance": [],
      "gpuType": "T4",
      "collapsed_sections": [
        "UwMxwonYBFcR"
      ]
    },
    "kernelspec": {
      "name": "python3",
      "display_name": "Python 3"
    },
    "language_info": {
      "name": "python"
    },
    "accelerator": "GPU"
  },
  "cells": [
    {
      "cell_type": "markdown",
      "source": [
        "# Tabular project 1: Emotion classification from image features extracted using CLIP image encoder"
      ],
      "metadata": {
        "id": "HZ8vHF9KAyWH"
      }
    },
    {
      "cell_type": "code",
      "source": [
        "import torch\n",
        "import torch.nn as nn\n",
        "import torch.optim as optim\n",
        "from torch.utils.data import Dataset, DataLoader\n",
        "import torch.nn.functional as F\n",
        "import pandas as pd\n",
        "import numpy as np\n",
        "\n",
        "device = torch.device('cuda' if torch.cuda.is_available() else 'cpu')"
      ],
      "metadata": {
        "id": "79PBqE5_H5Hu"
      },
      "execution_count": null,
      "outputs": []
    },
    {
      "cell_type": "markdown",
      "source": [
        "### Prepare dataset"
      ],
      "metadata": {
        "id": "UwMxwonYBFcR"
      }
    },
    {
      "cell_type": "markdown",
      "source": [
        "Dataset description:\n",
        "*   Dataset contain 776 .npy files and 1 .txt file (id_list.txt)\n",
        "*   Files XXX_semantic.npy save several images features has labels in file XXX_emotion.npy. Example: files 001_semantic.npy save an array of (288, 768) which means there are 288 images each image has feature as a vector of 768 elements. Therefore, file 001_emotion.npy save an array of (288, ) as 288 labels for each image features\n",
        "*   Each sample has 768 features will be classify into 6 classes\n"
      ],
      "metadata": {
        "id": "SEkX7ZGdB5BA"
      }
    },
    {
      "cell_type": "code",
      "source": [
        "!pip install gdown\n",
        "!gdown https://drive.google.com/uc?id=1NuydJYXtLRsAI-eDqHhLXE9UOjqFAkT0"
      ],
      "metadata": {
        "colab": {
          "base_uri": "https://localhost:8080/"
        },
        "collapsed": true,
        "id": "4GfmstCqAyGA",
        "outputId": "4d409952-6b3e-43f0-e0bd-6b8e3db6b314"
      },
      "execution_count": null,
      "outputs": [
        {
          "output_type": "stream",
          "name": "stdout",
          "text": [
            "Requirement already satisfied: gdown in /usr/local/lib/python3.10/dist-packages (5.1.0)\n",
            "Requirement already satisfied: beautifulsoup4 in /usr/local/lib/python3.10/dist-packages (from gdown) (4.12.3)\n",
            "Requirement already satisfied: filelock in /usr/local/lib/python3.10/dist-packages (from gdown) (3.14.0)\n",
            "Requirement already satisfied: requests[socks] in /usr/local/lib/python3.10/dist-packages (from gdown) (2.31.0)\n",
            "Requirement already satisfied: tqdm in /usr/local/lib/python3.10/dist-packages (from gdown) (4.66.4)\n",
            "Requirement already satisfied: soupsieve>1.2 in /usr/local/lib/python3.10/dist-packages (from beautifulsoup4->gdown) (2.5)\n",
            "Requirement already satisfied: charset-normalizer<4,>=2 in /usr/local/lib/python3.10/dist-packages (from requests[socks]->gdown) (3.3.2)\n",
            "Requirement already satisfied: idna<4,>=2.5 in /usr/local/lib/python3.10/dist-packages (from requests[socks]->gdown) (3.7)\n",
            "Requirement already satisfied: urllib3<3,>=1.21.1 in /usr/local/lib/python3.10/dist-packages (from requests[socks]->gdown) (2.0.7)\n",
            "Requirement already satisfied: certifi>=2017.4.17 in /usr/local/lib/python3.10/dist-packages (from requests[socks]->gdown) (2024.2.2)\n",
            "Requirement already satisfied: PySocks!=1.5.7,>=1.5.6 in /usr/local/lib/python3.10/dist-packages (from requests[socks]->gdown) (1.7.1)\n",
            "Downloading...\n",
            "From (original): https://drive.google.com/uc?id=1NuydJYXtLRsAI-eDqHhLXE9UOjqFAkT0\n",
            "From (redirected): https://drive.google.com/uc?id=1NuydJYXtLRsAI-eDqHhLXE9UOjqFAkT0&confirm=t&uuid=6f6b9672-f026-4223-83a3-d3b11c7bd8f6\n",
            "To: /content/dataset_semantic_emotion.zip\n",
            "100% 142M/142M [00:02<00:00, 65.3MB/s]\n"
          ]
        }
      ]
    },
    {
      "cell_type": "code",
      "source": [
        "!unzip /content/dataset_semantic_emotion.zip\n",
        "!rm -rf /content/dataset_semantic_emotion.zip"
      ],
      "metadata": {
        "colab": {
          "base_uri": "https://localhost:8080/"
        },
        "collapsed": true,
        "id": "jiIG-Z7JE4nF",
        "outputId": "ebcbaacd-3d12-48d0-97e7-bb0319c7d304"
      },
      "execution_count": null,
      "outputs": [
        {
          "output_type": "stream",
          "name": "stdout",
          "text": [
            "Archive:  /content/dataset_semantic_emotion.zip\n",
            "   creating: dataset_semantic_emotion/\n",
            "  inflating: dataset_semantic_emotion/001_emotion.npy  \n",
            "  inflating: dataset_semantic_emotion/001_semantic.npy  \n",
            "  inflating: dataset_semantic_emotion/002_emotion.npy  \n",
            "  inflating: dataset_semantic_emotion/002_semantic.npy  \n",
            "  inflating: dataset_semantic_emotion/003_emotion.npy  \n",
            "  inflating: dataset_semantic_emotion/003_semantic.npy  \n",
            "  inflating: dataset_semantic_emotion/004_emotion.npy  \n",
            "  inflating: dataset_semantic_emotion/004_semantic.npy  \n",
            "  inflating: dataset_semantic_emotion/005_emotion.npy  \n",
            "  inflating: dataset_semantic_emotion/005_semantic.npy  \n",
            "  inflating: dataset_semantic_emotion/006_emotion.npy  \n",
            "  inflating: dataset_semantic_emotion/006_semantic.npy  \n",
            "  inflating: dataset_semantic_emotion/007_emotion.npy  \n",
            "  inflating: dataset_semantic_emotion/007_semantic.npy  \n",
            "  inflating: dataset_semantic_emotion/008_emotion.npy  \n",
            "  inflating: dataset_semantic_emotion/008_semantic.npy  \n",
            "  inflating: dataset_semantic_emotion/009_emotion.npy  \n",
            "  inflating: dataset_semantic_emotion/009_semantic.npy  \n",
            "  inflating: dataset_semantic_emotion/010_emotion.npy  \n",
            "  inflating: dataset_semantic_emotion/010_semantic.npy  \n",
            "  inflating: dataset_semantic_emotion/011_emotion.npy  \n",
            "  inflating: dataset_semantic_emotion/011_semantic.npy  \n",
            "  inflating: dataset_semantic_emotion/012_emotion.npy  \n",
            "  inflating: dataset_semantic_emotion/012_semantic.npy  \n",
            "  inflating: dataset_semantic_emotion/013_emotion.npy  \n",
            "  inflating: dataset_semantic_emotion/013_semantic.npy  \n",
            "  inflating: dataset_semantic_emotion/014_emotion.npy  \n",
            "  inflating: dataset_semantic_emotion/014_semantic.npy  \n",
            "  inflating: dataset_semantic_emotion/016_emotion.npy  \n",
            "  inflating: dataset_semantic_emotion/016_semantic.npy  \n",
            "  inflating: dataset_semantic_emotion/017_emotion.npy  \n",
            "  inflating: dataset_semantic_emotion/017_semantic.npy  \n",
            "  inflating: dataset_semantic_emotion/018_emotion.npy  \n",
            "  inflating: dataset_semantic_emotion/018_semantic.npy  \n",
            "  inflating: dataset_semantic_emotion/019_emotion.npy  \n",
            "  inflating: dataset_semantic_emotion/019_semantic.npy  \n",
            "  inflating: dataset_semantic_emotion/020_emotion.npy  \n",
            "  inflating: dataset_semantic_emotion/020_semantic.npy  \n",
            "  inflating: dataset_semantic_emotion/021_emotion.npy  \n",
            "  inflating: dataset_semantic_emotion/021_semantic.npy  \n",
            "  inflating: dataset_semantic_emotion/022_emotion.npy  \n",
            "  inflating: dataset_semantic_emotion/022_semantic.npy  \n",
            "  inflating: dataset_semantic_emotion/023_emotion.npy  \n",
            "  inflating: dataset_semantic_emotion/023_semantic.npy  \n",
            "  inflating: dataset_semantic_emotion/024_emotion.npy  \n",
            "  inflating: dataset_semantic_emotion/024_semantic.npy  \n",
            "  inflating: dataset_semantic_emotion/025_emotion.npy  \n",
            "  inflating: dataset_semantic_emotion/025_semantic.npy  \n",
            "  inflating: dataset_semantic_emotion/026_emotion.npy  \n",
            "  inflating: dataset_semantic_emotion/026_semantic.npy  \n",
            "  inflating: dataset_semantic_emotion/027_emotion.npy  \n",
            "  inflating: dataset_semantic_emotion/027_semantic.npy  \n",
            "  inflating: dataset_semantic_emotion/028_emotion.npy  \n",
            "  inflating: dataset_semantic_emotion/028_semantic.npy  \n",
            "  inflating: dataset_semantic_emotion/029_emotion.npy  \n",
            "  inflating: dataset_semantic_emotion/029_semantic.npy  \n",
            "  inflating: dataset_semantic_emotion/030_emotion.npy  \n",
            "  inflating: dataset_semantic_emotion/030_semantic.npy  \n",
            "  inflating: dataset_semantic_emotion/031_emotion.npy  \n",
            "  inflating: dataset_semantic_emotion/031_semantic.npy  \n",
            "  inflating: dataset_semantic_emotion/032_emotion.npy  \n",
            "  inflating: dataset_semantic_emotion/032_semantic.npy  \n",
            "  inflating: dataset_semantic_emotion/033_emotion.npy  \n",
            "  inflating: dataset_semantic_emotion/033_semantic.npy  \n",
            "  inflating: dataset_semantic_emotion/035_emotion.npy  \n",
            "  inflating: dataset_semantic_emotion/035_semantic.npy  \n",
            "  inflating: dataset_semantic_emotion/036_emotion.npy  \n",
            "  inflating: dataset_semantic_emotion/036_semantic.npy  \n",
            "  inflating: dataset_semantic_emotion/037_emotion.npy  \n",
            "  inflating: dataset_semantic_emotion/037_semantic.npy  \n",
            "  inflating: dataset_semantic_emotion/038_emotion.npy  \n",
            "  inflating: dataset_semantic_emotion/038_semantic.npy  \n",
            "  inflating: dataset_semantic_emotion/039_emotion.npy  \n",
            "  inflating: dataset_semantic_emotion/039_semantic.npy  \n",
            "  inflating: dataset_semantic_emotion/041_emotion.npy  \n",
            "  inflating: dataset_semantic_emotion/041_semantic.npy  \n",
            "  inflating: dataset_semantic_emotion/042_emotion.npy  \n",
            "  inflating: dataset_semantic_emotion/042_semantic.npy  \n",
            "  inflating: dataset_semantic_emotion/043_emotion.npy  \n",
            "  inflating: dataset_semantic_emotion/043_semantic.npy  \n",
            "  inflating: dataset_semantic_emotion/044_emotion.npy  \n",
            "  inflating: dataset_semantic_emotion/044_semantic.npy  \n",
            "  inflating: dataset_semantic_emotion/045_emotion.npy  \n",
            "  inflating: dataset_semantic_emotion/045_semantic.npy  \n",
            "  inflating: dataset_semantic_emotion/046_emotion.npy  \n",
            "  inflating: dataset_semantic_emotion/046_semantic.npy  \n",
            "  inflating: dataset_semantic_emotion/047_emotion.npy  \n",
            "  inflating: dataset_semantic_emotion/047_semantic.npy  \n",
            "  inflating: dataset_semantic_emotion/048_emotion.npy  \n",
            "  inflating: dataset_semantic_emotion/048_semantic.npy  \n",
            "  inflating: dataset_semantic_emotion/049_emotion.npy  \n",
            "  inflating: dataset_semantic_emotion/049_semantic.npy  \n",
            "  inflating: dataset_semantic_emotion/050_emotion.npy  \n",
            "  inflating: dataset_semantic_emotion/050_semantic.npy  \n",
            "  inflating: dataset_semantic_emotion/051_emotion.npy  \n",
            "  inflating: dataset_semantic_emotion/051_semantic.npy  \n",
            "  inflating: dataset_semantic_emotion/052_emotion.npy  \n",
            "  inflating: dataset_semantic_emotion/052_semantic.npy  \n",
            "  inflating: dataset_semantic_emotion/054_emotion.npy  \n",
            "  inflating: dataset_semantic_emotion/054_semantic.npy  \n",
            "  inflating: dataset_semantic_emotion/055_emotion.npy  \n",
            "  inflating: dataset_semantic_emotion/055_semantic.npy  \n",
            "  inflating: dataset_semantic_emotion/056_emotion.npy  \n",
            "  inflating: dataset_semantic_emotion/056_semantic.npy  \n",
            "  inflating: dataset_semantic_emotion/057_emotion.npy  \n",
            "  inflating: dataset_semantic_emotion/057_semantic.npy  \n",
            "  inflating: dataset_semantic_emotion/058_emotion.npy  \n",
            "  inflating: dataset_semantic_emotion/058_semantic.npy  \n",
            "  inflating: dataset_semantic_emotion/059_emotion.npy  \n",
            "  inflating: dataset_semantic_emotion/059_semantic.npy  \n",
            "  inflating: dataset_semantic_emotion/060_emotion.npy  \n",
            "  inflating: dataset_semantic_emotion/060_semantic.npy  \n",
            "  inflating: dataset_semantic_emotion/061_emotion.npy  \n",
            "  inflating: dataset_semantic_emotion/061_semantic.npy  \n",
            "  inflating: dataset_semantic_emotion/062_emotion.npy  \n",
            "  inflating: dataset_semantic_emotion/062_semantic.npy  \n",
            "  inflating: dataset_semantic_emotion/063_emotion.npy  \n",
            "  inflating: dataset_semantic_emotion/063_semantic.npy  \n",
            "  inflating: dataset_semantic_emotion/064_emotion.npy  \n",
            "  inflating: dataset_semantic_emotion/064_semantic.npy  \n",
            "  inflating: dataset_semantic_emotion/065_emotion.npy  \n",
            "  inflating: dataset_semantic_emotion/065_semantic.npy  \n",
            "  inflating: dataset_semantic_emotion/066_emotion.npy  \n",
            "  inflating: dataset_semantic_emotion/066_semantic.npy  \n",
            "  inflating: dataset_semantic_emotion/067_emotion.npy  \n",
            "  inflating: dataset_semantic_emotion/067_semantic.npy  \n",
            "  inflating: dataset_semantic_emotion/068_emotion.npy  \n",
            "  inflating: dataset_semantic_emotion/068_semantic.npy  \n",
            "  inflating: dataset_semantic_emotion/069_emotion.npy  \n",
            "  inflating: dataset_semantic_emotion/069_semantic.npy  \n",
            "  inflating: dataset_semantic_emotion/070_emotion.npy  \n",
            "  inflating: dataset_semantic_emotion/070_semantic.npy  \n",
            "  inflating: dataset_semantic_emotion/071_emotion.npy  \n",
            "  inflating: dataset_semantic_emotion/071_semantic.npy  \n",
            "  inflating: dataset_semantic_emotion/072_emotion.npy  \n",
            "  inflating: dataset_semantic_emotion/072_semantic.npy  \n",
            "  inflating: dataset_semantic_emotion/073_emotion.npy  \n",
            "  inflating: dataset_semantic_emotion/073_semantic.npy  \n",
            "  inflating: dataset_semantic_emotion/074_emotion.npy  \n",
            "  inflating: dataset_semantic_emotion/074_semantic.npy  \n",
            "  inflating: dataset_semantic_emotion/075_emotion.npy  \n",
            "  inflating: dataset_semantic_emotion/075_semantic.npy  \n",
            "  inflating: dataset_semantic_emotion/076_emotion.npy  \n",
            "  inflating: dataset_semantic_emotion/076_semantic.npy  \n",
            "  inflating: dataset_semantic_emotion/077_emotion.npy  \n",
            "  inflating: dataset_semantic_emotion/077_semantic.npy  \n",
            "  inflating: dataset_semantic_emotion/078_emotion.npy  \n",
            "  inflating: dataset_semantic_emotion/078_semantic.npy  \n",
            "  inflating: dataset_semantic_emotion/079_emotion.npy  \n",
            "  inflating: dataset_semantic_emotion/079_semantic.npy  \n",
            "  inflating: dataset_semantic_emotion/080_emotion.npy  \n",
            "  inflating: dataset_semantic_emotion/080_semantic.npy  \n",
            "  inflating: dataset_semantic_emotion/081_emotion.npy  \n",
            "  inflating: dataset_semantic_emotion/081_semantic.npy  \n",
            "  inflating: dataset_semantic_emotion/082_emotion.npy  \n",
            "  inflating: dataset_semantic_emotion/082_semantic.npy  \n",
            "  inflating: dataset_semantic_emotion/083_emotion.npy  \n",
            "  inflating: dataset_semantic_emotion/083_semantic.npy  \n",
            "  inflating: dataset_semantic_emotion/084_emotion.npy  \n",
            "  inflating: dataset_semantic_emotion/084_semantic.npy  \n",
            "  inflating: dataset_semantic_emotion/085_emotion.npy  \n",
            "  inflating: dataset_semantic_emotion/085_semantic.npy  \n",
            "  inflating: dataset_semantic_emotion/086_emotion.npy  \n",
            "  inflating: dataset_semantic_emotion/086_semantic.npy  \n",
            "  inflating: dataset_semantic_emotion/087_emotion.npy  \n",
            "  inflating: dataset_semantic_emotion/087_semantic.npy  \n",
            "  inflating: dataset_semantic_emotion/088_emotion.npy  \n",
            "  inflating: dataset_semantic_emotion/088_semantic.npy  \n",
            "  inflating: dataset_semantic_emotion/089_emotion.npy  \n",
            "  inflating: dataset_semantic_emotion/089_semantic.npy  \n",
            "  inflating: dataset_semantic_emotion/090_emotion.npy  \n",
            "  inflating: dataset_semantic_emotion/090_semantic.npy  \n",
            "  inflating: dataset_semantic_emotion/091_emotion.npy  \n",
            "  inflating: dataset_semantic_emotion/091_semantic.npy  \n",
            "  inflating: dataset_semantic_emotion/092_emotion.npy  \n",
            "  inflating: dataset_semantic_emotion/092_semantic.npy  \n",
            "  inflating: dataset_semantic_emotion/093_emotion.npy  \n",
            "  inflating: dataset_semantic_emotion/093_semantic.npy  \n",
            "  inflating: dataset_semantic_emotion/094_emotion.npy  \n",
            "  inflating: dataset_semantic_emotion/094_semantic.npy  \n",
            "  inflating: dataset_semantic_emotion/095_emotion.npy  \n",
            "  inflating: dataset_semantic_emotion/095_semantic.npy  \n",
            "  inflating: dataset_semantic_emotion/096_emotion.npy  \n",
            "  inflating: dataset_semantic_emotion/096_semantic.npy  \n",
            "  inflating: dataset_semantic_emotion/097_emotion.npy  \n",
            "  inflating: dataset_semantic_emotion/097_semantic.npy  \n",
            "  inflating: dataset_semantic_emotion/098_emotion.npy  \n",
            "  inflating: dataset_semantic_emotion/098_semantic.npy  \n",
            "  inflating: dataset_semantic_emotion/099_emotion.npy  \n",
            "  inflating: dataset_semantic_emotion/099_semantic.npy  \n",
            "  inflating: dataset_semantic_emotion/100_emotion.npy  \n",
            "  inflating: dataset_semantic_emotion/100_semantic.npy  \n",
            "  inflating: dataset_semantic_emotion/101_emotion.npy  \n",
            "  inflating: dataset_semantic_emotion/101_semantic.npy  \n",
            "  inflating: dataset_semantic_emotion/102_emotion.npy  \n",
            "  inflating: dataset_semantic_emotion/102_semantic.npy  \n",
            "  inflating: dataset_semantic_emotion/103_emotion.npy  \n",
            "  inflating: dataset_semantic_emotion/103_semantic.npy  \n",
            "  inflating: dataset_semantic_emotion/104_emotion.npy  \n",
            "  inflating: dataset_semantic_emotion/104_semantic.npy  \n",
            "  inflating: dataset_semantic_emotion/105_emotion.npy  \n",
            "  inflating: dataset_semantic_emotion/105_semantic.npy  \n",
            "  inflating: dataset_semantic_emotion/106_emotion.npy  \n",
            "  inflating: dataset_semantic_emotion/106_semantic.npy  \n",
            "  inflating: dataset_semantic_emotion/107_emotion.npy  \n",
            "  inflating: dataset_semantic_emotion/107_semantic.npy  \n",
            "  inflating: dataset_semantic_emotion/108_emotion.npy  \n",
            "  inflating: dataset_semantic_emotion/108_semantic.npy  \n",
            "  inflating: dataset_semantic_emotion/109_emotion.npy  \n",
            "  inflating: dataset_semantic_emotion/109_semantic.npy  \n",
            "  inflating: dataset_semantic_emotion/110_emotion.npy  \n",
            "  inflating: dataset_semantic_emotion/110_semantic.npy  \n",
            "  inflating: dataset_semantic_emotion/111_emotion.npy  \n",
            "  inflating: dataset_semantic_emotion/111_semantic.npy  \n",
            "  inflating: dataset_semantic_emotion/112_emotion.npy  \n",
            "  inflating: dataset_semantic_emotion/112_semantic.npy  \n",
            "  inflating: dataset_semantic_emotion/113_emotion.npy  \n",
            "  inflating: dataset_semantic_emotion/113_semantic.npy  \n",
            "  inflating: dataset_semantic_emotion/114_emotion.npy  \n",
            "  inflating: dataset_semantic_emotion/114_semantic.npy  \n",
            "  inflating: dataset_semantic_emotion/115_emotion.npy  \n",
            "  inflating: dataset_semantic_emotion/115_semantic.npy  \n",
            "  inflating: dataset_semantic_emotion/116_emotion.npy  \n",
            "  inflating: dataset_semantic_emotion/116_semantic.npy  \n",
            "  inflating: dataset_semantic_emotion/117_emotion.npy  \n",
            "  inflating: dataset_semantic_emotion/117_semantic.npy  \n",
            "  inflating: dataset_semantic_emotion/118_emotion.npy  \n",
            "  inflating: dataset_semantic_emotion/118_semantic.npy  \n",
            "  inflating: dataset_semantic_emotion/119_emotion.npy  \n",
            "  inflating: dataset_semantic_emotion/119_semantic.npy  \n",
            "  inflating: dataset_semantic_emotion/120_emotion.npy  \n",
            "  inflating: dataset_semantic_emotion/120_semantic.npy  \n",
            "  inflating: dataset_semantic_emotion/121_emotion.npy  \n",
            "  inflating: dataset_semantic_emotion/121_semantic.npy  \n",
            "  inflating: dataset_semantic_emotion/122_emotion.npy  \n",
            "  inflating: dataset_semantic_emotion/122_semantic.npy  \n",
            "  inflating: dataset_semantic_emotion/123_emotion.npy  \n",
            "  inflating: dataset_semantic_emotion/123_semantic.npy  \n",
            "  inflating: dataset_semantic_emotion/124_emotion.npy  \n",
            "  inflating: dataset_semantic_emotion/124_semantic.npy  \n",
            "  inflating: dataset_semantic_emotion/125_emotion.npy  \n",
            "  inflating: dataset_semantic_emotion/125_semantic.npy  \n",
            "  inflating: dataset_semantic_emotion/126_emotion.npy  \n",
            "  inflating: dataset_semantic_emotion/126_semantic.npy  \n",
            "  inflating: dataset_semantic_emotion/127_emotion.npy  \n",
            "  inflating: dataset_semantic_emotion/127_semantic.npy  \n",
            "  inflating: dataset_semantic_emotion/128_emotion.npy  \n",
            "  inflating: dataset_semantic_emotion/128_semantic.npy  \n",
            "  inflating: dataset_semantic_emotion/129_emotion.npy  \n",
            "  inflating: dataset_semantic_emotion/129_semantic.npy  \n",
            "  inflating: dataset_semantic_emotion/130_emotion.npy  \n",
            "  inflating: dataset_semantic_emotion/130_semantic.npy  \n",
            "  inflating: dataset_semantic_emotion/131_emotion.npy  \n",
            "  inflating: dataset_semantic_emotion/131_semantic.npy  \n",
            "  inflating: dataset_semantic_emotion/132_emotion.npy  \n",
            "  inflating: dataset_semantic_emotion/132_semantic.npy  \n",
            "  inflating: dataset_semantic_emotion/133_emotion.npy  \n",
            "  inflating: dataset_semantic_emotion/133_semantic.npy  \n",
            "  inflating: dataset_semantic_emotion/134_emotion.npy  \n",
            "  inflating: dataset_semantic_emotion/134_semantic.npy  \n",
            "  inflating: dataset_semantic_emotion/135_emotion.npy  \n",
            "  inflating: dataset_semantic_emotion/135_semantic.npy  \n",
            "  inflating: dataset_semantic_emotion/136_emotion.npy  \n",
            "  inflating: dataset_semantic_emotion/136_semantic.npy  \n",
            "  inflating: dataset_semantic_emotion/137_emotion.npy  \n",
            "  inflating: dataset_semantic_emotion/137_semantic.npy  \n",
            "  inflating: dataset_semantic_emotion/138_emotion.npy  \n",
            "  inflating: dataset_semantic_emotion/138_semantic.npy  \n",
            "  inflating: dataset_semantic_emotion/139_emotion.npy  \n",
            "  inflating: dataset_semantic_emotion/139_semantic.npy  \n",
            "  inflating: dataset_semantic_emotion/140_emotion.npy  \n",
            "  inflating: dataset_semantic_emotion/140_semantic.npy  \n",
            "  inflating: dataset_semantic_emotion/141_emotion.npy  \n",
            "  inflating: dataset_semantic_emotion/141_semantic.npy  \n",
            "  inflating: dataset_semantic_emotion/142_emotion.npy  \n",
            "  inflating: dataset_semantic_emotion/142_semantic.npy  \n",
            "  inflating: dataset_semantic_emotion/143_emotion.npy  \n",
            "  inflating: dataset_semantic_emotion/143_semantic.npy  \n",
            "  inflating: dataset_semantic_emotion/144_emotion.npy  \n",
            "  inflating: dataset_semantic_emotion/144_semantic.npy  \n",
            "  inflating: dataset_semantic_emotion/145_emotion.npy  \n",
            "  inflating: dataset_semantic_emotion/145_semantic.npy  \n",
            "  inflating: dataset_semantic_emotion/146_emotion.npy  \n",
            "  inflating: dataset_semantic_emotion/146_semantic.npy  \n",
            "  inflating: dataset_semantic_emotion/147_emotion.npy  \n",
            "  inflating: dataset_semantic_emotion/147_semantic.npy  \n",
            "  inflating: dataset_semantic_emotion/148_emotion.npy  \n",
            "  inflating: dataset_semantic_emotion/148_semantic.npy  \n",
            "  inflating: dataset_semantic_emotion/149_emotion.npy  \n",
            "  inflating: dataset_semantic_emotion/149_semantic.npy  \n",
            "  inflating: dataset_semantic_emotion/150_emotion.npy  \n",
            "  inflating: dataset_semantic_emotion/150_semantic.npy  \n",
            "  inflating: dataset_semantic_emotion/151_emotion.npy  \n",
            "  inflating: dataset_semantic_emotion/151_semantic.npy  \n",
            "  inflating: dataset_semantic_emotion/152_emotion.npy  \n",
            "  inflating: dataset_semantic_emotion/152_semantic.npy  \n",
            "  inflating: dataset_semantic_emotion/153_emotion.npy  \n",
            "  inflating: dataset_semantic_emotion/153_semantic.npy  \n",
            "  inflating: dataset_semantic_emotion/154_emotion.npy  \n",
            "  inflating: dataset_semantic_emotion/154_semantic.npy  \n",
            "  inflating: dataset_semantic_emotion/155_emotion.npy  \n",
            "  inflating: dataset_semantic_emotion/155_semantic.npy  \n",
            "  inflating: dataset_semantic_emotion/156_emotion.npy  \n",
            "  inflating: dataset_semantic_emotion/156_semantic.npy  \n",
            "  inflating: dataset_semantic_emotion/157_emotion.npy  \n",
            "  inflating: dataset_semantic_emotion/157_semantic.npy  \n",
            "  inflating: dataset_semantic_emotion/158_emotion.npy  \n",
            "  inflating: dataset_semantic_emotion/158_semantic.npy  \n",
            "  inflating: dataset_semantic_emotion/159_emotion.npy  \n",
            "  inflating: dataset_semantic_emotion/159_semantic.npy  \n",
            "  inflating: dataset_semantic_emotion/160_emotion.npy  \n",
            "  inflating: dataset_semantic_emotion/160_semantic.npy  \n",
            "  inflating: dataset_semantic_emotion/161_emotion.npy  \n",
            "  inflating: dataset_semantic_emotion/161_semantic.npy  \n",
            "  inflating: dataset_semantic_emotion/162_emotion.npy  \n",
            "  inflating: dataset_semantic_emotion/162_semantic.npy  \n",
            "  inflating: dataset_semantic_emotion/163_emotion.npy  \n",
            "  inflating: dataset_semantic_emotion/163_semantic.npy  \n",
            "  inflating: dataset_semantic_emotion/164_emotion.npy  \n",
            "  inflating: dataset_semantic_emotion/164_semantic.npy  \n",
            "  inflating: dataset_semantic_emotion/165_emotion.npy  \n",
            "  inflating: dataset_semantic_emotion/165_semantic.npy  \n",
            "  inflating: dataset_semantic_emotion/166_emotion.npy  \n",
            "  inflating: dataset_semantic_emotion/166_semantic.npy  \n",
            "  inflating: dataset_semantic_emotion/167_emotion.npy  \n",
            "  inflating: dataset_semantic_emotion/167_semantic.npy  \n",
            "  inflating: dataset_semantic_emotion/168_emotion.npy  \n",
            "  inflating: dataset_semantic_emotion/168_semantic.npy  \n",
            "  inflating: dataset_semantic_emotion/169_emotion.npy  \n",
            "  inflating: dataset_semantic_emotion/169_semantic.npy  \n",
            "  inflating: dataset_semantic_emotion/170_emotion.npy  \n",
            "  inflating: dataset_semantic_emotion/170_semantic.npy  \n",
            "  inflating: dataset_semantic_emotion/171_emotion.npy  \n",
            "  inflating: dataset_semantic_emotion/171_semantic.npy  \n",
            "  inflating: dataset_semantic_emotion/172_emotion.npy  \n",
            "  inflating: dataset_semantic_emotion/172_semantic.npy  \n",
            "  inflating: dataset_semantic_emotion/173_emotion.npy  \n",
            "  inflating: dataset_semantic_emotion/173_semantic.npy  \n",
            "  inflating: dataset_semantic_emotion/174_emotion.npy  \n",
            "  inflating: dataset_semantic_emotion/174_semantic.npy  \n",
            "  inflating: dataset_semantic_emotion/175_emotion.npy  \n",
            "  inflating: dataset_semantic_emotion/175_semantic.npy  \n",
            "  inflating: dataset_semantic_emotion/176_emotion.npy  \n",
            "  inflating: dataset_semantic_emotion/176_semantic.npy  \n",
            "  inflating: dataset_semantic_emotion/177_emotion.npy  \n",
            "  inflating: dataset_semantic_emotion/177_semantic.npy  \n",
            "  inflating: dataset_semantic_emotion/178_emotion.npy  \n",
            "  inflating: dataset_semantic_emotion/178_semantic.npy  \n",
            "  inflating: dataset_semantic_emotion/179_emotion.npy  \n",
            "  inflating: dataset_semantic_emotion/179_semantic.npy  \n",
            "  inflating: dataset_semantic_emotion/180_emotion.npy  \n",
            "  inflating: dataset_semantic_emotion/180_semantic.npy  \n",
            "  inflating: dataset_semantic_emotion/181_emotion.npy  \n",
            "  inflating: dataset_semantic_emotion/181_semantic.npy  \n",
            "  inflating: dataset_semantic_emotion/182_emotion.npy  \n",
            "  inflating: dataset_semantic_emotion/182_semantic.npy  \n",
            "  inflating: dataset_semantic_emotion/183_emotion.npy  \n",
            "  inflating: dataset_semantic_emotion/183_semantic.npy  \n",
            "  inflating: dataset_semantic_emotion/184_emotion.npy  \n",
            "  inflating: dataset_semantic_emotion/184_semantic.npy  \n",
            "  inflating: dataset_semantic_emotion/185_emotion.npy  \n",
            "  inflating: dataset_semantic_emotion/185_semantic.npy  \n",
            "  inflating: dataset_semantic_emotion/186_emotion.npy  \n",
            "  inflating: dataset_semantic_emotion/186_semantic.npy  \n",
            "  inflating: dataset_semantic_emotion/187_emotion.npy  \n",
            "  inflating: dataset_semantic_emotion/187_semantic.npy  \n",
            "  inflating: dataset_semantic_emotion/188_emotion.npy  \n",
            "  inflating: dataset_semantic_emotion/188_semantic.npy  \n",
            "  inflating: dataset_semantic_emotion/189_emotion.npy  \n",
            "  inflating: dataset_semantic_emotion/189_semantic.npy  \n",
            "  inflating: dataset_semantic_emotion/190_emotion.npy  \n",
            "  inflating: dataset_semantic_emotion/190_semantic.npy  \n",
            "  inflating: dataset_semantic_emotion/191_emotion.npy  \n",
            "  inflating: dataset_semantic_emotion/191_semantic.npy  \n",
            "  inflating: dataset_semantic_emotion/192_emotion.npy  \n",
            "  inflating: dataset_semantic_emotion/192_semantic.npy  \n",
            "  inflating: dataset_semantic_emotion/193_emotion.npy  \n",
            "  inflating: dataset_semantic_emotion/193_semantic.npy  \n",
            "  inflating: dataset_semantic_emotion/194_emotion.npy  \n",
            "  inflating: dataset_semantic_emotion/194_semantic.npy  \n",
            "  inflating: dataset_semantic_emotion/195_emotion.npy  \n",
            "  inflating: dataset_semantic_emotion/195_semantic.npy  \n",
            "  inflating: dataset_semantic_emotion/196_emotion.npy  \n",
            "  inflating: dataset_semantic_emotion/196_semantic.npy  \n",
            "  inflating: dataset_semantic_emotion/197_emotion.npy  \n",
            "  inflating: dataset_semantic_emotion/197_semantic.npy  \n",
            "  inflating: dataset_semantic_emotion/198_emotion.npy  \n",
            "  inflating: dataset_semantic_emotion/198_semantic.npy  \n",
            "  inflating: dataset_semantic_emotion/199_emotion.npy  \n",
            "  inflating: dataset_semantic_emotion/199_semantic.npy  \n",
            "  inflating: dataset_semantic_emotion/200_emotion.npy  \n",
            "  inflating: dataset_semantic_emotion/200_semantic.npy  \n",
            "  inflating: dataset_semantic_emotion/201_emotion.npy  \n",
            "  inflating: dataset_semantic_emotion/201_semantic.npy  \n",
            "  inflating: dataset_semantic_emotion/202_emotion.npy  \n",
            "  inflating: dataset_semantic_emotion/202_semantic.npy  \n",
            "  inflating: dataset_semantic_emotion/203_emotion.npy  \n",
            "  inflating: dataset_semantic_emotion/203_semantic.npy  \n",
            "  inflating: dataset_semantic_emotion/204_emotion.npy  \n",
            "  inflating: dataset_semantic_emotion/204_semantic.npy  \n",
            "  inflating: dataset_semantic_emotion/205_emotion.npy  \n",
            "  inflating: dataset_semantic_emotion/205_semantic.npy  \n",
            "  inflating: dataset_semantic_emotion/206_emotion.npy  \n",
            "  inflating: dataset_semantic_emotion/206_semantic.npy  \n",
            "  inflating: dataset_semantic_emotion/207_emotion.npy  \n",
            "  inflating: dataset_semantic_emotion/207_semantic.npy  \n",
            "  inflating: dataset_semantic_emotion/208_emotion.npy  \n",
            "  inflating: dataset_semantic_emotion/208_semantic.npy  \n",
            "  inflating: dataset_semantic_emotion/209_emotion.npy  \n",
            "  inflating: dataset_semantic_emotion/209_semantic.npy  \n",
            "  inflating: dataset_semantic_emotion/210_emotion.npy  \n",
            "  inflating: dataset_semantic_emotion/210_semantic.npy  \n",
            "  inflating: dataset_semantic_emotion/211_emotion.npy  \n",
            "  inflating: dataset_semantic_emotion/211_semantic.npy  \n",
            "  inflating: dataset_semantic_emotion/213_emotion.npy  \n",
            "  inflating: dataset_semantic_emotion/213_semantic.npy  \n",
            "  inflating: dataset_semantic_emotion/214_emotion.npy  \n",
            "  inflating: dataset_semantic_emotion/214_semantic.npy  \n",
            "  inflating: dataset_semantic_emotion/215_emotion.npy  \n",
            "  inflating: dataset_semantic_emotion/215_semantic.npy  \n",
            "  inflating: dataset_semantic_emotion/216_emotion.npy  \n",
            "  inflating: dataset_semantic_emotion/216_semantic.npy  \n",
            "  inflating: dataset_semantic_emotion/217_emotion.npy  \n",
            "  inflating: dataset_semantic_emotion/217_semantic.npy  \n",
            "  inflating: dataset_semantic_emotion/218_emotion.npy  \n",
            "  inflating: dataset_semantic_emotion/218_semantic.npy  \n",
            "  inflating: dataset_semantic_emotion/219_emotion.npy  \n",
            "  inflating: dataset_semantic_emotion/219_semantic.npy  \n",
            "  inflating: dataset_semantic_emotion/220_emotion.npy  \n",
            "  inflating: dataset_semantic_emotion/220_semantic.npy  \n",
            "  inflating: dataset_semantic_emotion/221_emotion.npy  \n",
            "  inflating: dataset_semantic_emotion/221_semantic.npy  \n",
            "  inflating: dataset_semantic_emotion/222_emotion.npy  \n",
            "  inflating: dataset_semantic_emotion/222_semantic.npy  \n",
            "  inflating: dataset_semantic_emotion/223_emotion.npy  \n",
            "  inflating: dataset_semantic_emotion/223_semantic.npy  \n",
            "  inflating: dataset_semantic_emotion/224_emotion.npy  \n",
            "  inflating: dataset_semantic_emotion/224_semantic.npy  \n",
            "  inflating: dataset_semantic_emotion/225_emotion.npy  \n",
            "  inflating: dataset_semantic_emotion/225_semantic.npy  \n",
            "  inflating: dataset_semantic_emotion/226_emotion.npy  \n",
            "  inflating: dataset_semantic_emotion/226_semantic.npy  \n",
            "  inflating: dataset_semantic_emotion/227_emotion.npy  \n",
            "  inflating: dataset_semantic_emotion/227_semantic.npy  \n",
            "  inflating: dataset_semantic_emotion/228_emotion.npy  \n",
            "  inflating: dataset_semantic_emotion/228_semantic.npy  \n",
            "  inflating: dataset_semantic_emotion/229_emotion.npy  \n",
            "  inflating: dataset_semantic_emotion/229_semantic.npy  \n",
            "  inflating: dataset_semantic_emotion/230_emotion.npy  \n",
            "  inflating: dataset_semantic_emotion/230_semantic.npy  \n",
            "  inflating: dataset_semantic_emotion/231_emotion.npy  \n",
            "  inflating: dataset_semantic_emotion/231_semantic.npy  \n",
            "  inflating: dataset_semantic_emotion/232_emotion.npy  \n",
            "  inflating: dataset_semantic_emotion/232_semantic.npy  \n",
            "  inflating: dataset_semantic_emotion/233_emotion.npy  \n",
            "  inflating: dataset_semantic_emotion/233_semantic.npy  \n",
            "  inflating: dataset_semantic_emotion/234_emotion.npy  \n",
            "  inflating: dataset_semantic_emotion/234_semantic.npy  \n",
            "  inflating: dataset_semantic_emotion/235_emotion.npy  \n",
            "  inflating: dataset_semantic_emotion/235_semantic.npy  \n",
            "  inflating: dataset_semantic_emotion/236_emotion.npy  \n",
            "  inflating: dataset_semantic_emotion/236_semantic.npy  \n",
            "  inflating: dataset_semantic_emotion/237_emotion.npy  \n",
            "  inflating: dataset_semantic_emotion/237_semantic.npy  \n",
            "  inflating: dataset_semantic_emotion/238_emotion.npy  \n",
            "  inflating: dataset_semantic_emotion/238_semantic.npy  \n",
            "  inflating: dataset_semantic_emotion/239_emotion.npy  \n",
            "  inflating: dataset_semantic_emotion/239_semantic.npy  \n",
            "  inflating: dataset_semantic_emotion/240_emotion.npy  \n",
            "  inflating: dataset_semantic_emotion/240_semantic.npy  \n",
            "  inflating: dataset_semantic_emotion/241_emotion.npy  \n",
            "  inflating: dataset_semantic_emotion/241_semantic.npy  \n",
            "  inflating: dataset_semantic_emotion/242_emotion.npy  \n",
            "  inflating: dataset_semantic_emotion/242_semantic.npy  \n",
            "  inflating: dataset_semantic_emotion/243_emotion.npy  \n",
            "  inflating: dataset_semantic_emotion/243_semantic.npy  \n",
            "  inflating: dataset_semantic_emotion/244_emotion.npy  \n",
            "  inflating: dataset_semantic_emotion/244_semantic.npy  \n",
            "  inflating: dataset_semantic_emotion/245_emotion.npy  \n",
            "  inflating: dataset_semantic_emotion/245_semantic.npy  \n",
            "  inflating: dataset_semantic_emotion/246_emotion.npy  \n",
            "  inflating: dataset_semantic_emotion/246_semantic.npy  \n",
            "  inflating: dataset_semantic_emotion/247_emotion.npy  \n",
            "  inflating: dataset_semantic_emotion/247_semantic.npy  \n",
            "  inflating: dataset_semantic_emotion/248_emotion.npy  \n",
            "  inflating: dataset_semantic_emotion/248_semantic.npy  \n",
            "  inflating: dataset_semantic_emotion/249_emotion.npy  \n",
            "  inflating: dataset_semantic_emotion/249_semantic.npy  \n",
            "  inflating: dataset_semantic_emotion/250_emotion.npy  \n",
            "  inflating: dataset_semantic_emotion/250_semantic.npy  \n",
            "  inflating: dataset_semantic_emotion/251_emotion.npy  \n",
            "  inflating: dataset_semantic_emotion/251_semantic.npy  \n",
            "  inflating: dataset_semantic_emotion/252_emotion.npy  \n",
            "  inflating: dataset_semantic_emotion/252_semantic.npy  \n",
            "  inflating: dataset_semantic_emotion/253_emotion.npy  \n",
            "  inflating: dataset_semantic_emotion/253_semantic.npy  \n",
            "  inflating: dataset_semantic_emotion/254_emotion.npy  \n",
            "  inflating: dataset_semantic_emotion/254_semantic.npy  \n",
            "  inflating: dataset_semantic_emotion/255_emotion.npy  \n",
            "  inflating: dataset_semantic_emotion/255_semantic.npy  \n",
            "  inflating: dataset_semantic_emotion/256_emotion.npy  \n",
            "  inflating: dataset_semantic_emotion/256_semantic.npy  \n",
            "  inflating: dataset_semantic_emotion/257_emotion.npy  \n",
            "  inflating: dataset_semantic_emotion/257_semantic.npy  \n",
            "  inflating: dataset_semantic_emotion/258_emotion.npy  \n",
            "  inflating: dataset_semantic_emotion/258_semantic.npy  \n",
            "  inflating: dataset_semantic_emotion/259_emotion.npy  \n",
            "  inflating: dataset_semantic_emotion/259_semantic.npy  \n",
            "  inflating: dataset_semantic_emotion/261_emotion.npy  \n",
            "  inflating: dataset_semantic_emotion/261_semantic.npy  \n",
            "  inflating: dataset_semantic_emotion/262_emotion.npy  \n",
            "  inflating: dataset_semantic_emotion/262_semantic.npy  \n",
            "  inflating: dataset_semantic_emotion/263_emotion.npy  \n",
            "  inflating: dataset_semantic_emotion/263_semantic.npy  \n",
            "  inflating: dataset_semantic_emotion/264_emotion.npy  \n",
            "  inflating: dataset_semantic_emotion/264_semantic.npy  \n",
            "  inflating: dataset_semantic_emotion/265_emotion.npy  \n",
            "  inflating: dataset_semantic_emotion/265_semantic.npy  \n",
            "  inflating: dataset_semantic_emotion/266_emotion.npy  \n",
            "  inflating: dataset_semantic_emotion/266_semantic.npy  \n",
            "  inflating: dataset_semantic_emotion/267_emotion.npy  \n",
            "  inflating: dataset_semantic_emotion/267_semantic.npy  \n",
            "  inflating: dataset_semantic_emotion/268_emotion.npy  \n",
            "  inflating: dataset_semantic_emotion/268_semantic.npy  \n",
            "  inflating: dataset_semantic_emotion/269_emotion.npy  \n",
            "  inflating: dataset_semantic_emotion/269_semantic.npy  \n",
            "  inflating: dataset_semantic_emotion/270_emotion.npy  \n",
            "  inflating: dataset_semantic_emotion/270_semantic.npy  \n",
            "  inflating: dataset_semantic_emotion/271_emotion.npy  \n",
            "  inflating: dataset_semantic_emotion/271_semantic.npy  \n",
            "  inflating: dataset_semantic_emotion/272_emotion.npy  \n",
            "  inflating: dataset_semantic_emotion/272_semantic.npy  \n",
            "  inflating: dataset_semantic_emotion/273_emotion.npy  \n",
            "  inflating: dataset_semantic_emotion/273_semantic.npy  \n",
            "  inflating: dataset_semantic_emotion/274_emotion.npy  \n",
            "  inflating: dataset_semantic_emotion/274_semantic.npy  \n",
            "  inflating: dataset_semantic_emotion/275_emotion.npy  \n",
            "  inflating: dataset_semantic_emotion/275_semantic.npy  \n",
            "  inflating: dataset_semantic_emotion/276_emotion.npy  \n",
            "  inflating: dataset_semantic_emotion/276_semantic.npy  \n",
            "  inflating: dataset_semantic_emotion/277_emotion.npy  \n",
            "  inflating: dataset_semantic_emotion/277_semantic.npy  \n",
            "  inflating: dataset_semantic_emotion/278_emotion.npy  \n",
            "  inflating: dataset_semantic_emotion/278_semantic.npy  \n",
            "  inflating: dataset_semantic_emotion/279_emotion.npy  \n",
            "  inflating: dataset_semantic_emotion/279_semantic.npy  \n",
            "  inflating: dataset_semantic_emotion/280_emotion.npy  \n",
            "  inflating: dataset_semantic_emotion/280_semantic.npy  \n",
            "  inflating: dataset_semantic_emotion/282_emotion.npy  \n",
            "  inflating: dataset_semantic_emotion/282_semantic.npy  \n",
            "  inflating: dataset_semantic_emotion/283_emotion.npy  \n",
            "  inflating: dataset_semantic_emotion/283_semantic.npy  \n",
            "  inflating: dataset_semantic_emotion/284_emotion.npy  \n",
            "  inflating: dataset_semantic_emotion/284_semantic.npy  \n",
            "  inflating: dataset_semantic_emotion/285_emotion.npy  \n",
            "  inflating: dataset_semantic_emotion/285_semantic.npy  \n",
            "  inflating: dataset_semantic_emotion/286_emotion.npy  \n",
            "  inflating: dataset_semantic_emotion/286_semantic.npy  \n",
            "  inflating: dataset_semantic_emotion/287_emotion.npy  \n",
            "  inflating: dataset_semantic_emotion/287_semantic.npy  \n",
            "  inflating: dataset_semantic_emotion/288_emotion.npy  \n",
            "  inflating: dataset_semantic_emotion/288_semantic.npy  \n",
            "  inflating: dataset_semantic_emotion/289_emotion.npy  \n",
            "  inflating: dataset_semantic_emotion/289_semantic.npy  \n",
            "  inflating: dataset_semantic_emotion/290_emotion.npy  \n",
            "  inflating: dataset_semantic_emotion/290_semantic.npy  \n",
            "  inflating: dataset_semantic_emotion/291_emotion.npy  \n",
            "  inflating: dataset_semantic_emotion/291_semantic.npy  \n",
            "  inflating: dataset_semantic_emotion/292_emotion.npy  \n",
            "  inflating: dataset_semantic_emotion/292_semantic.npy  \n",
            "  inflating: dataset_semantic_emotion/293_emotion.npy  \n",
            "  inflating: dataset_semantic_emotion/293_semantic.npy  \n",
            "  inflating: dataset_semantic_emotion/294_emotion.npy  \n",
            "  inflating: dataset_semantic_emotion/294_semantic.npy  \n",
            "  inflating: dataset_semantic_emotion/295_emotion.npy  \n",
            "  inflating: dataset_semantic_emotion/295_semantic.npy  \n",
            "  inflating: dataset_semantic_emotion/296_emotion.npy  \n",
            "  inflating: dataset_semantic_emotion/296_semantic.npy  \n",
            "  inflating: dataset_semantic_emotion/297_emotion.npy  \n",
            "  inflating: dataset_semantic_emotion/297_semantic.npy  \n",
            "  inflating: dataset_semantic_emotion/298_emotion.npy  \n",
            "  inflating: dataset_semantic_emotion/298_semantic.npy  \n",
            "  inflating: dataset_semantic_emotion/299_emotion.npy  \n",
            "  inflating: dataset_semantic_emotion/299_semantic.npy  \n",
            "  inflating: dataset_semantic_emotion/300_emotion.npy  \n",
            "  inflating: dataset_semantic_emotion/300_semantic.npy  \n",
            "  inflating: dataset_semantic_emotion/301_emotion.npy  \n",
            "  inflating: dataset_semantic_emotion/301_semantic.npy  \n",
            "  inflating: dataset_semantic_emotion/302_emotion.npy  \n",
            "  inflating: dataset_semantic_emotion/302_semantic.npy  \n",
            "  inflating: dataset_semantic_emotion/303_emotion.npy  \n",
            "  inflating: dataset_semantic_emotion/303_semantic.npy  \n",
            "  inflating: dataset_semantic_emotion/304_emotion.npy  \n",
            "  inflating: dataset_semantic_emotion/304_semantic.npy  \n",
            "  inflating: dataset_semantic_emotion/305_emotion.npy  \n",
            "  inflating: dataset_semantic_emotion/305_semantic.npy  \n",
            "  inflating: dataset_semantic_emotion/306_emotion.npy  \n",
            "  inflating: dataset_semantic_emotion/306_semantic.npy  \n",
            "  inflating: dataset_semantic_emotion/307_emotion.npy  \n",
            "  inflating: dataset_semantic_emotion/307_semantic.npy  \n",
            "  inflating: dataset_semantic_emotion/308_emotion.npy  \n",
            "  inflating: dataset_semantic_emotion/308_semantic.npy  \n",
            "  inflating: dataset_semantic_emotion/309_emotion.npy  \n",
            "  inflating: dataset_semantic_emotion/309_semantic.npy  \n",
            "  inflating: dataset_semantic_emotion/311_emotion.npy  \n",
            "  inflating: dataset_semantic_emotion/311_semantic.npy  \n",
            "  inflating: dataset_semantic_emotion/312_emotion.npy  \n",
            "  inflating: dataset_semantic_emotion/312_semantic.npy  \n",
            "  inflating: dataset_semantic_emotion/313_emotion.npy  \n",
            "  inflating: dataset_semantic_emotion/313_semantic.npy  \n",
            "  inflating: dataset_semantic_emotion/314_emotion.npy  \n",
            "  inflating: dataset_semantic_emotion/314_semantic.npy  \n",
            "  inflating: dataset_semantic_emotion/315_emotion.npy  \n",
            "  inflating: dataset_semantic_emotion/315_semantic.npy  \n",
            "  inflating: dataset_semantic_emotion/316_emotion.npy  \n",
            "  inflating: dataset_semantic_emotion/316_semantic.npy  \n",
            "  inflating: dataset_semantic_emotion/317_emotion.npy  \n",
            "  inflating: dataset_semantic_emotion/317_semantic.npy  \n",
            "  inflating: dataset_semantic_emotion/319_emotion.npy  \n",
            "  inflating: dataset_semantic_emotion/319_semantic.npy  \n",
            "  inflating: dataset_semantic_emotion/320_emotion.npy  \n",
            "  inflating: dataset_semantic_emotion/320_semantic.npy  \n",
            "  inflating: dataset_semantic_emotion/321_emotion.npy  \n",
            "  inflating: dataset_semantic_emotion/321_semantic.npy  \n",
            "  inflating: dataset_semantic_emotion/322_emotion.npy  \n",
            "  inflating: dataset_semantic_emotion/322_semantic.npy  \n",
            "  inflating: dataset_semantic_emotion/323_emotion.npy  \n",
            "  inflating: dataset_semantic_emotion/323_semantic.npy  \n",
            "  inflating: dataset_semantic_emotion/324_emotion.npy  \n",
            "  inflating: dataset_semantic_emotion/324_semantic.npy  \n",
            "  inflating: dataset_semantic_emotion/325_emotion.npy  \n",
            "  inflating: dataset_semantic_emotion/325_semantic.npy  \n",
            "  inflating: dataset_semantic_emotion/326_emotion.npy  \n",
            "  inflating: dataset_semantic_emotion/326_semantic.npy  \n",
            "  inflating: dataset_semantic_emotion/327_emotion.npy  \n",
            "  inflating: dataset_semantic_emotion/327_semantic.npy  \n",
            "  inflating: dataset_semantic_emotion/328_emotion.npy  \n",
            "  inflating: dataset_semantic_emotion/328_semantic.npy  \n",
            "  inflating: dataset_semantic_emotion/329_emotion.npy  \n",
            "  inflating: dataset_semantic_emotion/329_semantic.npy  \n",
            "  inflating: dataset_semantic_emotion/330_emotion.npy  \n",
            "  inflating: dataset_semantic_emotion/330_semantic.npy  \n",
            "  inflating: dataset_semantic_emotion/331_emotion.npy  \n",
            "  inflating: dataset_semantic_emotion/331_semantic.npy  \n",
            "  inflating: dataset_semantic_emotion/332_emotion.npy  \n",
            "  inflating: dataset_semantic_emotion/332_semantic.npy  \n",
            "  inflating: dataset_semantic_emotion/333_emotion.npy  \n",
            "  inflating: dataset_semantic_emotion/333_semantic.npy  \n",
            "  inflating: dataset_semantic_emotion/334_emotion.npy  \n",
            "  inflating: dataset_semantic_emotion/334_semantic.npy  \n",
            "  inflating: dataset_semantic_emotion/335_emotion.npy  \n",
            "  inflating: dataset_semantic_emotion/335_semantic.npy  \n",
            "  inflating: dataset_semantic_emotion/336_emotion.npy  \n",
            "  inflating: dataset_semantic_emotion/336_semantic.npy  \n",
            "  inflating: dataset_semantic_emotion/337_emotion.npy  \n",
            "  inflating: dataset_semantic_emotion/337_semantic.npy  \n",
            "  inflating: dataset_semantic_emotion/338_emotion.npy  \n",
            "  inflating: dataset_semantic_emotion/338_semantic.npy  \n",
            "  inflating: dataset_semantic_emotion/339_emotion.npy  \n",
            "  inflating: dataset_semantic_emotion/339_semantic.npy  \n",
            "  inflating: dataset_semantic_emotion/340_emotion.npy  \n",
            "  inflating: dataset_semantic_emotion/340_semantic.npy  \n",
            "  inflating: dataset_semantic_emotion/341_emotion.npy  \n",
            "  inflating: dataset_semantic_emotion/341_semantic.npy  \n",
            "  inflating: dataset_semantic_emotion/342_emotion.npy  \n",
            "  inflating: dataset_semantic_emotion/342_semantic.npy  \n",
            "  inflating: dataset_semantic_emotion/343_emotion.npy  \n",
            "  inflating: dataset_semantic_emotion/343_semantic.npy  \n",
            "  inflating: dataset_semantic_emotion/344_emotion.npy  \n",
            "  inflating: dataset_semantic_emotion/344_semantic.npy  \n",
            "  inflating: dataset_semantic_emotion/345_emotion.npy  \n",
            "  inflating: dataset_semantic_emotion/345_semantic.npy  \n",
            "  inflating: dataset_semantic_emotion/346_emotion.npy  \n",
            "  inflating: dataset_semantic_emotion/346_semantic.npy  \n",
            "  inflating: dataset_semantic_emotion/347_emotion.npy  \n",
            "  inflating: dataset_semantic_emotion/347_semantic.npy  \n",
            "  inflating: dataset_semantic_emotion/348_emotion.npy  \n",
            "  inflating: dataset_semantic_emotion/348_semantic.npy  \n",
            "  inflating: dataset_semantic_emotion/349_emotion.npy  \n",
            "  inflating: dataset_semantic_emotion/349_semantic.npy  \n",
            "  inflating: dataset_semantic_emotion/351_emotion.npy  \n",
            "  inflating: dataset_semantic_emotion/351_semantic.npy  \n",
            "  inflating: dataset_semantic_emotion/352_emotion.npy  \n",
            "  inflating: dataset_semantic_emotion/352_semantic.npy  \n",
            "  inflating: dataset_semantic_emotion/353_emotion.npy  \n",
            "  inflating: dataset_semantic_emotion/353_semantic.npy  \n",
            "  inflating: dataset_semantic_emotion/354_emotion.npy  \n",
            "  inflating: dataset_semantic_emotion/354_semantic.npy  \n",
            "  inflating: dataset_semantic_emotion/356_emotion.npy  \n",
            "  inflating: dataset_semantic_emotion/356_semantic.npy  \n",
            "  inflating: dataset_semantic_emotion/357_emotion.npy  \n",
            "  inflating: dataset_semantic_emotion/357_semantic.npy  \n",
            "  inflating: dataset_semantic_emotion/358_emotion.npy  \n",
            "  inflating: dataset_semantic_emotion/358_semantic.npy  \n",
            "  inflating: dataset_semantic_emotion/359_emotion.npy  \n",
            "  inflating: dataset_semantic_emotion/359_semantic.npy  \n",
            "  inflating: dataset_semantic_emotion/360_emotion.npy  \n",
            "  inflating: dataset_semantic_emotion/360_semantic.npy  \n",
            "  inflating: dataset_semantic_emotion/361_emotion.npy  \n",
            "  inflating: dataset_semantic_emotion/361_semantic.npy  \n",
            "  inflating: dataset_semantic_emotion/362_emotion.npy  \n",
            "  inflating: dataset_semantic_emotion/362_semantic.npy  \n",
            "  inflating: dataset_semantic_emotion/363_emotion.npy  \n",
            "  inflating: dataset_semantic_emotion/363_semantic.npy  \n",
            "  inflating: dataset_semantic_emotion/364_emotion.npy  \n",
            "  inflating: dataset_semantic_emotion/364_semantic.npy  \n",
            "  inflating: dataset_semantic_emotion/365_emotion.npy  \n",
            "  inflating: dataset_semantic_emotion/365_semantic.npy  \n",
            "  inflating: dataset_semantic_emotion/366_emotion.npy  \n",
            "  inflating: dataset_semantic_emotion/366_semantic.npy  \n",
            "  inflating: dataset_semantic_emotion/367_emotion.npy  \n",
            "  inflating: dataset_semantic_emotion/367_semantic.npy  \n",
            "  inflating: dataset_semantic_emotion/368_emotion.npy  \n",
            "  inflating: dataset_semantic_emotion/368_semantic.npy  \n",
            "  inflating: dataset_semantic_emotion/369_emotion.npy  \n",
            "  inflating: dataset_semantic_emotion/369_semantic.npy  \n",
            "  inflating: dataset_semantic_emotion/370_emotion.npy  \n",
            "  inflating: dataset_semantic_emotion/370_semantic.npy  \n",
            "  inflating: dataset_semantic_emotion/371_emotion.npy  \n",
            "  inflating: dataset_semantic_emotion/371_semantic.npy  \n",
            "  inflating: dataset_semantic_emotion/372_emotion.npy  \n",
            "  inflating: dataset_semantic_emotion/372_semantic.npy  \n",
            "  inflating: dataset_semantic_emotion/374_emotion.npy  \n",
            "  inflating: dataset_semantic_emotion/374_semantic.npy  \n",
            "  inflating: dataset_semantic_emotion/375_emotion.npy  \n",
            "  inflating: dataset_semantic_emotion/375_semantic.npy  \n",
            "  inflating: dataset_semantic_emotion/376_emotion.npy  \n",
            "  inflating: dataset_semantic_emotion/376_semantic.npy  \n",
            "  inflating: dataset_semantic_emotion/377_emotion.npy  \n",
            "  inflating: dataset_semantic_emotion/377_semantic.npy  \n",
            "  inflating: dataset_semantic_emotion/378_emotion.npy  \n",
            "  inflating: dataset_semantic_emotion/378_semantic.npy  \n",
            "  inflating: dataset_semantic_emotion/379_emotion.npy  \n",
            "  inflating: dataset_semantic_emotion/379_semantic.npy  \n",
            "  inflating: dataset_semantic_emotion/380_emotion.npy  \n",
            "  inflating: dataset_semantic_emotion/380_semantic.npy  \n",
            "  inflating: dataset_semantic_emotion/381_emotion.npy  \n",
            "  inflating: dataset_semantic_emotion/381_semantic.npy  \n",
            "  inflating: dataset_semantic_emotion/382_emotion.npy  \n",
            "  inflating: dataset_semantic_emotion/382_semantic.npy  \n",
            "  inflating: dataset_semantic_emotion/383_emotion.npy  \n",
            "  inflating: dataset_semantic_emotion/383_semantic.npy  \n",
            "  inflating: dataset_semantic_emotion/384_emotion.npy  \n",
            "  inflating: dataset_semantic_emotion/384_semantic.npy  \n",
            "  inflating: dataset_semantic_emotion/385_emotion.npy  \n",
            "  inflating: dataset_semantic_emotion/385_semantic.npy  \n",
            "  inflating: dataset_semantic_emotion/386_emotion.npy  \n",
            "  inflating: dataset_semantic_emotion/386_semantic.npy  \n",
            "  inflating: dataset_semantic_emotion/387_emotion.npy  \n",
            "  inflating: dataset_semantic_emotion/387_semantic.npy  \n",
            "  inflating: dataset_semantic_emotion/388_emotion.npy  \n",
            "  inflating: dataset_semantic_emotion/388_semantic.npy  \n",
            "  inflating: dataset_semantic_emotion/389_emotion.npy  \n",
            "  inflating: dataset_semantic_emotion/389_semantic.npy  \n",
            "  inflating: dataset_semantic_emotion/390_emotion.npy  \n",
            "  inflating: dataset_semantic_emotion/390_semantic.npy  \n",
            "  inflating: dataset_semantic_emotion/391_emotion.npy  \n",
            "  inflating: dataset_semantic_emotion/391_semantic.npy  \n",
            "  inflating: dataset_semantic_emotion/392_emotion.npy  \n",
            "  inflating: dataset_semantic_emotion/392_semantic.npy  \n",
            "  inflating: dataset_semantic_emotion/393_emotion.npy  \n",
            "  inflating: dataset_semantic_emotion/393_semantic.npy  \n",
            "  inflating: dataset_semantic_emotion/394_emotion.npy  \n",
            "  inflating: dataset_semantic_emotion/394_semantic.npy  \n",
            "  inflating: dataset_semantic_emotion/395_emotion.npy  \n",
            "  inflating: dataset_semantic_emotion/395_semantic.npy  \n",
            "  inflating: dataset_semantic_emotion/396_emotion.npy  \n",
            "  inflating: dataset_semantic_emotion/396_semantic.npy  \n",
            "  inflating: dataset_semantic_emotion/397_emotion.npy  \n",
            "  inflating: dataset_semantic_emotion/397_semantic.npy  \n",
            "  inflating: dataset_semantic_emotion/398_emotion.npy  \n",
            "  inflating: dataset_semantic_emotion/398_semantic.npy  \n",
            "  inflating: dataset_semantic_emotion/399_emotion.npy  \n",
            "  inflating: dataset_semantic_emotion/399_semantic.npy  \n",
            "  inflating: dataset_semantic_emotion/400_emotion.npy  \n",
            "  inflating: dataset_semantic_emotion/400_semantic.npy  \n",
            "  inflating: dataset_semantic_emotion/id_list.txt  \n"
          ]
        }
      ]
    },
    {
      "cell_type": "code",
      "source": [
        "id_list_file_path = '/content/dataset_semantic_emotion/id_list.txt'\n",
        "with open(id_list_file_path, 'r') as f:\n",
        "    id_list = f.readline()\n",
        "\n",
        "id_list = id_list.split(',')\n",
        "print(id_list)"
      ],
      "metadata": {
        "colab": {
          "base_uri": "https://localhost:8080/"
        },
        "id": "gjZTm7W1E8o2",
        "outputId": "f3c4f5d4-d27b-4f85-cb78-76d08598a690"
      },
      "execution_count": null,
      "outputs": [
        {
          "output_type": "stream",
          "name": "stdout",
          "text": [
            "['001', '002', '003', '004', '005', '006', '007', '008', '009', '010', '011', '012', '013', '014', '016', '017', '018', '019', '020', '021', '022', '023', '024', '025', '026', '027', '028', '029', '030', '031', '032', '033', '035', '036', '037', '038', '039', '041', '042', '043', '044', '045', '046', '047', '048', '049', '050', '051', '052', '054', '055', '056', '057', '058', '059', '060', '061', '062', '063', '064', '065', '066', '067', '068', '069', '070', '071', '072', '073', '074', '075', '076', '077', '078', '079', '080', '081', '082', '083', '084', '085', '086', '087', '088', '089', '090', '091', '092', '093', '094', '095', '096', '097', '098', '099', '100', '101', '102', '103', '104', '105', '106', '107', '108', '109', '110', '111', '112', '113', '114', '115', '116', '117', '118', '119', '120', '121', '122', '123', '124', '125', '126', '127', '128', '129', '130', '131', '132', '133', '134', '135', '136', '137', '138', '139', '140', '141', '142', '143', '144', '145', '146', '147', '148', '149', '150', '151', '152', '153', '154', '155', '156', '157', '158', '159', '160', '161', '162', '163', '164', '165', '166', '167', '168', '169', '170', '171', '172', '173', '174', '175', '176', '177', '178', '179', '180', '181', '182', '183', '184', '185', '186', '187', '188', '189', '190', '191', '192', '193', '194', '195', '196', '197', '198', '199', '200', '201', '202', '203', '204', '205', '206', '207', '208', '209', '210', '211', '213', '214', '215', '216', '217', '218', '219', '220', '221', '222', '223', '224', '225', '226', '227', '228', '229', '230', '231', '232', '233', '234', '235', '236', '237', '238', '239', '240', '241', '242', '243', '244', '245', '246', '247', '248', '249', '250', '251', '252', '253', '254', '255', '256', '257', '258', '259', '261', '262', '263', '264', '265', '266', '267', '268', '269', '270', '271', '272', '273', '274', '275', '276', '277', '278', '279', '280', '282', '283', '284', '285', '286', '287', '288', '289', '290', '291', '292', '293', '294', '295', '296', '297', '298', '299', '300', '301', '302', '303', '304', '305', '306', '307', '308', '309', '311', '312', '313', '314', '315', '316', '317', '319', '320', '321', '322', '323', '324', '325', '326', '327', '328', '329', '330', '331', '332', '333', '334', '335', '336', '337', '338', '339', '340', '341', '342', '343', '344', '345', '346', '347', '348', '349', '351', '352', '353', '354', '356', '357', '358', '359', '360', '361', '362', '363', '364', '365', '366', '367', '368', '369', '370', '371', '372', '374', '375', '376', '377', '378', '379', '380', '381', '382', '383', '384', '385', '386', '387', '388', '389', '390', '391', '392', '393', '394', '395', '396', '397', '398', '399', '400']\n"
          ]
        }
      ]
    },
    {
      "cell_type": "markdown",
      "source": [
        "Read data"
      ],
      "metadata": {
        "id": "22dnb84-GIGu"
      }
    },
    {
      "cell_type": "code",
      "source": [
        "import numpy as np\n",
        "\n",
        "semantic_feature_list = [] # List of numpy array shape (X, 768)\n",
        "emotion_list = [] # List of numpy array shape (X, )\n",
        "for id in id_list:\n",
        "    semantic_file_path = '/content/dataset_semantic_emotion/' + id + '_semantic.npy'\n",
        "    emotion_file_path = '/content/dataset_semantic_emotion/' + id + '_emotion.npy'\n",
        "\n",
        "    semantic_feature = np.load(semantic_file_path)\n",
        "    emotion = np.load(emotion_file_path)\n",
        "\n",
        "    # Remove some last sample in order to has the number of sample equal the number of label\n",
        "    if semantic_feature.shape[0] != emotion.shape[0]:\n",
        "        # print(f'Alert {id}, {semantic_feature.shape} <> {emotion.shape}')\n",
        "        min_len = min(semantic_feature.shape[0], emotion.shape[0])\n",
        "        semantic_feature = semantic_feature[:min_len]\n",
        "        emotion = emotion[:min_len]\n",
        "\n",
        "    semantic_feature_list.append(semantic_feature)\n",
        "    emotion_list.append(emotion)\n",
        "\n",
        "X = torch.tensor(np.vstack(semantic_feature_list))\n",
        "y = torch.tensor(np.hstack(emotion_list))\n",
        "print(X.shape)\n",
        "print(y.shape)"
      ],
      "metadata": {
        "colab": {
          "base_uri": "https://localhost:8080/"
        },
        "id": "kWJbk_9kGJiW",
        "outputId": "bb4901fa-035f-4cb3-af6a-7bd63fa45e20"
      },
      "execution_count": null,
      "outputs": [
        {
          "output_type": "stream",
          "name": "stdout",
          "text": [
            "torch.Size([100104, 768])\n",
            "torch.Size([100104])\n"
          ]
        }
      ]
    },
    {
      "cell_type": "code",
      "source": [
        "# Print first sample\n",
        "print(X[0])\n",
        "print(y[0])"
      ],
      "metadata": {
        "colab": {
          "base_uri": "https://localhost:8080/"
        },
        "collapsed": true,
        "id": "fYGukWo1G9bm",
        "outputId": "0ef0dc6d-5a7d-4d59-f8eb-a26c032aab33"
      },
      "execution_count": null,
      "outputs": [
        {
          "output_type": "stream",
          "name": "stdout",
          "text": [
            "tensor([ 1.5210e-01, -5.2441e-01,  2.7222e-01, -1.3896e+00, -1.7346e-01,\n",
            "        -2.8784e-01, -2.8101e-01,  4.6460e-01,  8.0750e-02, -1.0068e+00,\n",
            "        -3.0127e-01, -3.5718e-01,  1.4351e-02,  1.2299e-01, -5.8936e-01,\n",
            "        -1.8408e-01, -3.6719e-01, -7.4170e-01,  3.6591e-02, -2.6733e-01,\n",
            "        -1.7053e-01, -1.6858e-01,  2.8296e-01, -8.4375e-01, -5.9863e-01,\n",
            "        -5.6201e-01,  1.5747e-01,  3.2520e-03, -3.0420e-01,  8.7012e-01,\n",
            "        -6.0107e-01,  6.0449e-01, -9.3140e-02, -5.4541e-01,  3.4454e-02,\n",
            "         2.5928e-01, -4.8584e-01,  7.3792e-02, -1.0098e+00, -5.5127e-01,\n",
            "        -1.5356e-01,  1.8616e-01,  3.3643e-01, -4.8943e-03,  2.0398e-01,\n",
            "         3.9160e-01,  8.4863e-01,  3.3667e-01, -9.2627e-01, -4.8877e-01,\n",
            "        -2.5122e-01,  3.4790e-01, -2.8271e-01,  6.9031e-02,  4.1675e-01,\n",
            "        -7.1924e-01,  4.9170e-01,  1.8762e-01,  1.1847e-01, -4.1504e-01,\n",
            "         3.3569e-01,  3.2251e-01, -4.5654e-01, -3.6377e-02, -8.8501e-02,\n",
            "        -2.0569e-01,  9.9170e-01,  1.7383e-01, -5.9265e-02,  1.0248e-01,\n",
            "         2.2729e-01,  6.1621e-01,  2.5177e-02, -5.4785e-01,  7.5500e-02,\n",
            "         1.9116e-01, -6.4795e-01, -3.0127e-01, -1.1194e-01,  1.5686e-01,\n",
            "         1.1011e-01, -4.4019e-01, -7.5781e-01, -1.3550e-01, -1.9165e-01,\n",
            "        -8.5986e-01,  4.1821e-01, -2.1753e-01, -6.8604e-01,  2.5952e-01,\n",
            "        -9.0515e-02, -1.0736e-01, -8.9160e-01, -3.5522e-02,  1.9055e-01,\n",
            "         4.9976e-01, -4.4629e-01,  8.3008e-02,  3.1006e-01,  1.1273e-01,\n",
            "        -9.3652e-01, -1.6187e-01, -2.0178e-01, -9.0454e-02, -3.4937e-01,\n",
            "         5.7910e-01,  8.0017e-02,  3.5034e-02, -2.9321e-01, -1.3223e+00,\n",
            "        -3.8281e-01, -1.3391e-01,  2.7832e-01,  9.2697e-03, -3.6938e-01,\n",
            "         5.3809e-01, -1.8567e-01,  8.6621e-01, -1.5762e+00, -1.3977e-01,\n",
            "         3.9917e-02,  1.3596e-02, -2.1033e-01,  2.4585e-01,  2.9492e-01,\n",
            "        -6.9629e-01, -3.8635e-02,  3.2300e-01, -2.9224e-01, -5.8624e-02,\n",
            "         2.6099e-01,  2.2891e+00, -1.7136e-02,  6.8555e-01, -2.6196e-01,\n",
            "         3.9233e-01, -4.1504e-02, -3.7988e-01,  4.1943e-01,  1.9238e-01,\n",
            "         2.3657e-01,  1.4307e-01,  8.9966e-02,  3.6377e-01, -3.7866e-01,\n",
            "        -3.0591e-01,  1.0307e-02,  1.1699e+00,  1.2260e-02,  2.1887e-01,\n",
            "         1.8359e-01, -2.0471e-01,  2.3865e-01, -4.4556e-01,  5.0635e-01,\n",
            "         1.4075e-01,  5.8057e-01, -7.6514e-01, -3.4668e-02, -7.7686e-01,\n",
            "         1.7426e-02, -2.3218e-01, -5.1910e-02,  5.9717e-01, -8.2178e-01,\n",
            "         3.3130e-01, -5.0879e-01,  2.6962e-02,  4.7510e-01, -4.1675e-01,\n",
            "         8.2227e-01, -3.0518e-01,  5.6702e-02,  1.9348e-01,  8.0032e-03,\n",
            "        -5.0391e-01, -3.5132e-01, -1.6250e+00,  3.8818e-01, -8.7219e-02,\n",
            "         1.5322e+00, -5.3857e-01,  7.1533e-01, -2.8613e-01, -4.2969e-01,\n",
            "         4.6631e-01,  1.4600e-01, -2.3059e-01, -3.8940e-01, -2.0947e-01,\n",
            "         3.8818e-01, -3.4717e-01, -7.8888e-03,  3.4521e-01, -3.4326e-01,\n",
            "         8.2227e-01, -2.3950e-01,  5.6836e-01, -6.2451e-01, -1.0486e-01,\n",
            "         6.7261e-02, -9.0625e-01,  1.4294e-01,  7.2168e-01, -6.5247e-02,\n",
            "         3.4863e-01, -4.3823e-01, -3.4473e-01,  9.0625e-01, -5.9668e-01,\n",
            "         2.7368e-01, -3.2471e-01, -3.4326e-01, -5.7666e-01, -1.6943e-01,\n",
            "        -1.8921e-01,  4.3579e-01, -3.1689e-01,  6.6113e-01, -1.2016e-03,\n",
            "        -2.0068e-01, -5.3482e-03,  7.2449e-02, -7.3584e-01, -1.7542e-01,\n",
            "        -1.1194e-01,  1.3403e-01, -3.6835e-02,  1.1285e-01, -4.5410e-02,\n",
            "        -8.6975e-02, -3.8452e-01,  1.3271e+00, -1.7432e+00, -3.7256e-01,\n",
            "        -3.9746e-01, -6.6040e-02,  7.5146e-01, -3.3301e-01,  5.1465e-01,\n",
            "        -3.6011e-01,  2.0081e-01, -2.6172e-01,  2.9492e-01, -1.8225e-01,\n",
            "         1.5361e+00,  2.7271e-01,  5.8691e-01,  1.0723e+00, -1.9312e-01,\n",
            "         1.2415e-01, -1.1053e-01,  4.8431e-02, -2.8540e-01,  2.6685e-01,\n",
            "        -7.2607e-01,  2.8906e-01,  2.1289e-01,  7.3120e-02, -1.0322e+00,\n",
            "         1.5417e-01,  1.5857e-01,  7.9163e-02,  8.3447e-01, -5.6836e-01,\n",
            "         1.6125e-01,  1.6223e-01, -1.9299e-01, -2.1594e-01,  4.3091e-01,\n",
            "         3.1519e-01,  1.0386e-03,  2.7267e-02, -3.9154e-02,  5.2783e-01,\n",
            "         2.0740e-01, -2.0544e-01,  9.1492e-02,  1.9910e-01,  3.1934e-01,\n",
            "         2.0190e-01, -1.8037e+00, -3.0737e-01, -1.1943e+00,  7.0752e-01,\n",
            "        -2.3279e-01, -9.4177e-02,  1.4259e-02,  3.7549e-01, -2.2449e-03,\n",
            "         1.9409e-01, -1.4392e-01,  1.7358e-01, -3.0103e-01, -4.2822e-01,\n",
            "         7.9932e-01, -4.7656e-01,  7.0801e-01, -5.9418e-02,  3.3142e-02,\n",
            "        -4.9835e-02,  2.4915e-01,  2.5488e-01, -4.7314e-01,  2.0850e-01,\n",
            "         1.4771e-01, -9.6436e-02,  2.7710e-01, -1.4734e-01,  1.2573e-01,\n",
            "         5.9277e-01, -1.5308e-01, -2.1680e-01,  5.9326e-01,  5.1953e-01,\n",
            "         1.5588e-01, -1.4434e+00,  2.5415e-01,  3.9978e-03,  3.7207e-01,\n",
            "         1.5283e-01, -7.4316e-01,  3.0225e-01,  5.7129e-01,  4.4751e-01,\n",
            "         1.7044e-02, -3.2715e-01,  5.6738e-01, -7.2852e-01,  1.9844e+00,\n",
            "         1.1377e-01,  3.1323e-01, -7.7393e-01,  9.9121e-01,  1.0376e-01,\n",
            "        -4.2578e-01, -1.6150e-01,  1.4575e-01,  3.5010e-01, -3.7207e-01,\n",
            "         3.3667e-01,  7.6318e-01,  7.5293e-01,  9.9512e-01,  2.1997e-01,\n",
            "         6.3049e-02, -3.9038e-01,  7.5989e-02,  6.2061e-01,  1.5930e-01,\n",
            "         4.0771e-01,  6.9434e-01,  1.7578e-01,  5.5078e-01, -3.7988e-01,\n",
            "        -6.9385e-01, -4.2163e-01, -1.2061e-01,  2.8320e-02, -1.8176e-01,\n",
            "        -5.6201e-01,  9.3842e-03, -1.4414e+00,  3.1543e-01, -5.0244e-01,\n",
            "         2.3328e-01,  3.6430e-03,  1.4258e-01,  1.4282e-01, -7.6367e-01,\n",
            "        -8.4033e-01, -2.6172e-01, -2.5879e-01,  3.2861e-01, -1.6577e-01,\n",
            "         3.7158e-01,  4.2871e-01, -6.2891e-01, -5.4883e-01, -1.9873e-01,\n",
            "        -7.0605e-01, -3.1323e-01, -1.0876e-01, -9.0942e-02, -1.4905e-01,\n",
            "         3.0200e-01, -1.9299e-01,  5.5847e-02,  3.7646e-01,  1.7810e-01,\n",
            "         5.0244e-01, -2.0947e-01, -2.6459e-02,  2.1667e-01, -5.4474e-02,\n",
            "        -1.8750e-01,  1.5027e-01, -7.4121e-01, -3.4253e-01, -6.0822e-02,\n",
            "         5.9521e-01, -3.2007e-01,  1.7175e-01, -1.1176e-01, -2.5952e-01,\n",
            "        -1.0430e+00,  4.0869e-01,  1.7578e+00,  3.2251e-01,  3.5913e-01,\n",
            "         3.6430e-04,  1.7346e-01, -3.1812e-01, -8.7734e+00,  6.5967e-01,\n",
            "         3.6279e-01,  3.7036e-01,  2.0325e-01, -1.0657e-01, -2.7710e-01,\n",
            "         1.7051e+00, -5.7892e-02,  6.0986e-01,  7.4121e-01,  1.3220e-01,\n",
            "         7.8760e-01, -1.0742e-01,  4.3384e-01, -1.1096e-01,  5.3174e-01,\n",
            "        -3.5693e-01,  1.6125e-01,  3.8354e-01, -3.8354e-01,  6.6895e-01,\n",
            "        -8.0713e-01,  2.9272e-01,  1.2231e-01,  8.2910e-01,  7.3486e-02,\n",
            "         1.2324e+00, -3.6646e-01,  3.4668e-01, -4.6826e-01,  2.2058e-01,\n",
            "        -2.8589e-01,  1.0358e-01,  2.7393e-01, -5.0195e-01,  2.1960e-01,\n",
            "        -1.0010e+00, -2.0520e-01,  8.8135e-01,  4.3304e-02,  5.3271e-01,\n",
            "        -3.7720e-01,  2.1777e-01, -1.7798e-01, -3.7671e-01,  7.1240e-01,\n",
            "        -2.9834e-01,  1.9714e-01,  4.5874e-01,  1.6455e+00,  1.1348e+00,\n",
            "        -3.7720e-01,  7.9541e-01,  5.9601e-02,  2.0642e-01,  5.1953e-01,\n",
            "        -5.2393e-01, -1.7761e-02,  9.7461e-01, -8.8425e-03, -1.9128e-01,\n",
            "         1.2061e-01, -7.8662e-01, -8.3545e-01, -3.4790e-01,  2.8174e-01,\n",
            "         3.4937e-01, -7.2461e-01, -1.1304e-01,  1.8250e-02,  7.4402e-02,\n",
            "         5.0781e-01,  6.7529e-01, -5.9296e-02, -9.5947e-01, -3.4106e-01,\n",
            "         2.8979e-01,  1.7542e-01, -3.4912e-01, -4.3188e-01,  5.4590e-01,\n",
            "        -1.7615e-01,  3.4082e-01,  4.1455e-01,  3.3154e-01,  3.3276e-01,\n",
            "         3.0981e-01, -9.4757e-03,  2.6562e-01, -4.3823e-01,  4.6729e-01,\n",
            "        -8.1543e-02,  2.4512e-01, -2.9419e-01, -4.3188e-01,  2.7002e-01,\n",
            "         6.7773e-01, -4.8291e-01, -1.1016e+00, -6.6345e-02, -2.6172e-01,\n",
            "         3.0225e-01,  5.4443e-01,  3.2324e-01, -3.1543e-01,  1.0859e+00,\n",
            "         1.8726e-01, -6.7017e-02,  5.2686e-01,  5.6006e-01, -3.4424e-01,\n",
            "         2.1863e-01,  1.5112e-01,  2.0178e-01, -3.1104e-01, -4.5483e-01,\n",
            "         1.0244e+00, -3.0029e-01,  3.0176e-01, -5.0781e-01,  1.2588e+00,\n",
            "         2.3364e-01,  2.2876e-01, -6.3843e-02, -6.8799e-01,  6.0852e-02,\n",
            "        -1.7395e-01, -2.8027e-01, -4.1162e-01,  3.9526e-01,  1.3687e-02,\n",
            "         2.2217e-02, -1.0889e-01,  7.8247e-02, -2.0813e-01,  3.0420e-01,\n",
            "        -1.8738e-01,  4.6240e-01,  9.3628e-02,  8.7097e-02,  7.4854e-01,\n",
            "        -6.9043e-01, -2.4277e+00, -1.3208e-01, -4.1846e-01, -2.3560e-01,\n",
            "        -1.5156e+00, -7.1436e-01,  4.5319e-02, -1.6797e-01, -7.7783e-01,\n",
            "         3.7354e-01,  8.2520e-02,  5.2490e-01,  3.3032e-01, -2.0557e-01,\n",
            "        -7.9248e-01, -1.2695e-01, -1.2773e+00,  1.0535e-01,  8.5791e-01,\n",
            "        -1.1884e-01,  5.0342e-01,  1.7383e-01,  1.1988e-03, -1.3281e-01,\n",
            "         3.6450e-01, -2.0813e-01, -5.7568e-01, -6.2927e-02, -2.8061e-02,\n",
            "        -6.0107e-01, -1.1420e-01,  7.9102e-02,  9.0430e-01, -2.7344e-01,\n",
            "        -8.9258e-01,  6.2207e-01,  8.5156e-01, -3.2178e-01, -4.1650e-01,\n",
            "         5.8057e-01, -1.8225e-01, -1.7078e-01, -7.8027e-01, -4.4849e-01,\n",
            "        -2.0483e-01,  7.4170e-01,  3.0908e-01,  2.0044e-01, -2.3157e-01,\n",
            "         4.8706e-02,  5.8105e-01, -3.0640e-01, -5.2673e-02, -3.1128e-02,\n",
            "         1.2463e-01, -1.3757e-01, -7.6965e-02,  1.0126e-01,  5.0635e-01,\n",
            "        -3.4595e-01,  1.1560e-01, -1.1777e+00,  6.1621e-01,  1.6162e-01,\n",
            "         1.0382e-01, -9.4177e-02, -1.9214e-01, -4.0967e-01, -6.3086e-01,\n",
            "        -6.3086e-01, -5.3467e-01, -1.6711e-01, -2.0544e-01, -5.6299e-01,\n",
            "        -2.7856e-01,  3.2007e-01, -3.2764e-01, -3.3203e-01,  2.0190e-01,\n",
            "        -4.4092e-01,  2.0056e-01,  6.7188e-01, -4.2090e-01,  1.1444e-01,\n",
            "        -2.0886e-01,  4.0674e-01,  4.3164e-01, -2.8955e-01,  9.4062e+00,\n",
            "         1.5759e-01,  2.0325e-01, -8.1543e-02,  3.6304e-01, -2.2217e-01,\n",
            "         3.2324e-01, -4.8676e-03,  2.0386e-02, -7.2559e-01, -2.0813e-01,\n",
            "         3.9209e-01, -4.8279e-02,  7.4658e-01, -1.7773e-01,  2.3262e+00,\n",
            "         3.7158e-01, -5.5518e-01,  8.6328e-01,  2.8467e-01, -3.4619e-01,\n",
            "        -3.3838e-01, -2.8491e-01,  6.9775e-01, -2.8979e-01, -4.0039e-02,\n",
            "        -2.7734e-01, -8.4656e-02, -7.4097e-02, -6.1719e-01,  1.1250e+00,\n",
            "        -4.1284e-01, -9.1602e-01,  1.6687e-01, -1.7334e-02,  4.4556e-01,\n",
            "         5.8740e-01,  1.2500e-01,  8.1665e-02, -4.0259e-01,  2.5659e-01,\n",
            "         2.2705e-01,  3.4619e-01, -4.1455e-01, -4.8315e-01,  5.3040e-02,\n",
            "        -3.9307e-01, -2.2095e-02,  1.3818e+00, -7.6447e-03, -8.5156e-01,\n",
            "         2.4976e-01,  4.2505e-01, -2.9883e-01, -1.0114e-01,  5.8301e-01,\n",
            "        -1.2732e-01,  4.3579e-01,  4.6387e-02,  1.4365e+00,  2.3193e-01,\n",
            "        -1.4685e-01,  1.5674e-01, -7.7832e-01, -2.1149e-02,  7.7100e-01,\n",
            "         1.1053e-01, -1.2695e-01,  2.5146e-01,  9.6484e-01, -3.4644e-01,\n",
            "        -3.4204e-01, -5.9717e-01, -5.6305e-02, -5.3516e-01,  2.5732e-01,\n",
            "        -5.7861e-01, -2.2766e-01,  3.1299e-01,  2.0325e-02,  1.0205e+00,\n",
            "         5.0244e-01, -2.8589e-01, -7.5684e-01, -1.6760e-01, -1.6174e-01,\n",
            "         3.3130e-01,  3.4839e-01, -8.9798e-03, -1.9852e-02,  1.9238e-01,\n",
            "        -5.3027e-01,  3.3813e-01,  1.9202e-01, -8.6517e-03, -1.0059e-01,\n",
            "         6.2683e-02, -4.1626e-01,  3.5522e-01,  2.4072e-01,  7.7930e-01,\n",
            "        -3.0835e-01, -2.3706e-01,  1.4514e-01, -1.6211e-01,  2.3384e-03,\n",
            "         9.9060e-02, -9.0256e-03,  5.7764e-01,  3.0566e-01, -5.7568e-01,\n",
            "        -1.7419e-01,  4.3677e-01, -3.5718e-01,  3.3496e-01, -7.7979e-01,\n",
            "        -4.5215e-01,  2.7173e-01, -1.1670e+00,  1.3945e+00,  2.8320e-01,\n",
            "         2.7246e-01,  4.2511e-02, -9.4421e-02], dtype=torch.float16)\n",
            "tensor(4, dtype=torch.int8)\n"
          ]
        }
      ]
    },
    {
      "cell_type": "code",
      "source": [
        "for i in range(6):\n",
        "    print(f'Class {i}: {torch.sum(y == i).item()}')"
      ],
      "metadata": {
        "colab": {
          "base_uri": "https://localhost:8080/"
        },
        "id": "dkY6_-8ev5YM",
        "outputId": "6209dc40-5be3-423f-d3c4-376dbf95470f"
      },
      "execution_count": null,
      "outputs": [
        {
          "output_type": "stream",
          "name": "stdout",
          "text": [
            "Class 0: 16671\n",
            "Class 1: 21541\n",
            "Class 2: 28513\n",
            "Class 3: 22617\n",
            "Class 4: 6847\n",
            "Class 5: 3915\n"
          ]
        }
      ]
    },
    {
      "cell_type": "markdown",
      "source": [
        "Preprocessing data"
      ],
      "metadata": {
        "id": "o5Rc5dLSL1BG"
      }
    },
    {
      "cell_type": "code",
      "source": [
        "one_hot_dict = F.one_hot(torch.arange(0, 6), num_classes=6)\n",
        "print(one_hot_dict)"
      ],
      "metadata": {
        "colab": {
          "base_uri": "https://localhost:8080/"
        },
        "id": "D13t54OlLhLY",
        "outputId": "55ab55ae-713f-4035-f3df-4c1e225b3c0c"
      },
      "execution_count": null,
      "outputs": [
        {
          "output_type": "stream",
          "name": "stdout",
          "text": [
            "tensor([[1, 0, 0, 0, 0, 0],\n",
            "        [0, 1, 0, 0, 0, 0],\n",
            "        [0, 0, 1, 0, 0, 0],\n",
            "        [0, 0, 0, 1, 0, 0],\n",
            "        [0, 0, 0, 0, 1, 0],\n",
            "        [0, 0, 0, 0, 0, 1]])\n"
          ]
        }
      ]
    },
    {
      "cell_type": "code",
      "source": [
        "# Encode class name into one-hot vector\n",
        "y_one_hot = [one_hot_dict[i] for i in y]\n",
        "y_one_hot = torch.vstack(y_one_hot).float().to(device)\n",
        "\n",
        "print(y_one_hot[0])\n",
        "print(y_one_hot.shape)\n",
        "print(y_one_hot.dtype)"
      ],
      "metadata": {
        "colab": {
          "base_uri": "https://localhost:8080/"
        },
        "id": "-yLF-fLFHTfP",
        "outputId": "6f1c5ef1-9f57-4cff-e750-cab2c262d1dc"
      },
      "execution_count": null,
      "outputs": [
        {
          "output_type": "stream",
          "name": "stdout",
          "text": [
            "tensor([0., 0., 0., 0., 1., 0.], device='cuda:0')\n",
            "torch.Size([100104, 6])\n",
            "torch.float32\n"
          ]
        }
      ]
    },
    {
      "cell_type": "code",
      "source": [
        "# Normalize features\n",
        "feature_mean = X.mean()\n",
        "feature_std = X.std()\n",
        "X_processed = (X - feature_mean) / feature_std\n",
        "X_processed = X_processed.float().to(device)"
      ],
      "metadata": {
        "id": "KLb52IHJLw0O"
      },
      "execution_count": null,
      "outputs": []
    },
    {
      "cell_type": "code",
      "source": [
        "# Split dataset\n",
        "split_point = 90_000\n",
        "X_train, y_train = X_processed[:split_point], y_one_hot[:split_point]\n",
        "X_val, y_val = X_processed[split_point:], y_one_hot[split_point:]\n",
        "print(X_train.shape, X_train.dtype, X_train.device, y_train.shape)\n",
        "print(X_val.shape, X_val.dtype, X_val.device, y_val.shape)"
      ],
      "metadata": {
        "colab": {
          "base_uri": "https://localhost:8080/"
        },
        "id": "fnf-SDFKMKmP",
        "outputId": "6256a65e-a2b9-43f5-9dd9-a67b56adc035"
      },
      "execution_count": null,
      "outputs": [
        {
          "output_type": "stream",
          "name": "stdout",
          "text": [
            "torch.Size([90000, 768]) torch.float32 cuda:0 torch.Size([90000, 6])\n",
            "torch.Size([10104, 768]) torch.float32 cuda:0 torch.Size([10104, 6])\n"
          ]
        }
      ]
    },
    {
      "cell_type": "code",
      "source": [
        "# Create dataset class\n",
        "class EmotionDataset(Dataset):\n",
        "    def __init__(self, X, y):\n",
        "        self.X = X\n",
        "        self.y = y\n",
        "\n",
        "    def __len__(self):\n",
        "        return len(self.X)\n",
        "\n",
        "    def __getitem__(self, idx):\n",
        "        return self.X[idx], self.y[idx]\n",
        "\n",
        "train_dataset = EmotionDataset(X_train, y_train)\n",
        "# val_dataset = EmotionDataset(X_val, y_val)\n",
        "\n",
        "# Create dataloader class\n",
        "batch_size = 10000\n",
        "train_dataloader = DataLoader(train_dataset, batch_size=batch_size, shuffle=True)\n",
        "# val_dataloader = DataLoader(val_dataset, batch_size=batch_size, shuffle=False)"
      ],
      "metadata": {
        "id": "_CJKTnWDNO49"
      },
      "execution_count": null,
      "outputs": []
    },
    {
      "cell_type": "markdown",
      "source": [
        "### Models"
      ],
      "metadata": {
        "id": "HwLyAM_LoyoB"
      }
    },
    {
      "cell_type": "code",
      "source": [
        "class MLP(nn.Module):\n",
        "    def __init__(self, d_input, d_hidden, d_output, activation):\n",
        "        super(MLP, self).__init__()\n",
        "        self.fc1 = nn.Linear(d_input, d_hidden)\n",
        "        self.fc2 = nn.Linear(d_hidden, d_output)\n",
        "        self.activation = activation\n",
        "        self.softmax = nn.Softmax()\n",
        "\n",
        "    def forward(self, x):\n",
        "        x = self.fc1(x)\n",
        "        x = self.activation(x)\n",
        "        x = self.fc2(x)\n",
        "        x = self.softmax(x)\n",
        "        return x"
      ],
      "metadata": {
        "id": "y_it-OZhoyXz"
      },
      "execution_count": null,
      "outputs": []
    },
    {
      "cell_type": "code",
      "source": [
        "class myActivation(nn.Module):\n",
        "    def __init__(self):\n",
        "        super(myActivation, self).__init__()\n",
        "        self.ReLU = nn.ReLU()\n",
        "\n",
        "    def forward(self, x):\n",
        "        return 2.71828182846**(-self.ReLU(x))"
      ],
      "metadata": {
        "id": "xOah4jOV9dny"
      },
      "execution_count": null,
      "outputs": []
    },
    {
      "cell_type": "code",
      "source": [
        "class SinLU(nn.Module):\n",
        "    def __init__(self):\n",
        "        super(SinLU, self).__init__()\n",
        "        self.a = nn.Parameter(torch.ones(1))\n",
        "        self.b = nn.Parameter(torch.ones(1))\n",
        "    def forward(self,x):\n",
        "        return torch.sigmoid(x) * (x + self.a * torch.sin(self.b * x))"
      ],
      "metadata": {
        "id": "QvhNIqH8WJKM"
      },
      "execution_count": null,
      "outputs": []
    },
    {
      "cell_type": "code",
      "source": [
        "class GLU(nn.Module):\n",
        "    def __init__(self, d_input, d_hidden, d_output, activation, gate_act):\n",
        "        super(GLU, self).__init__()\n",
        "        self.fc1 = nn.Linear(d_input, d_hidden)\n",
        "        self.fc_gate = nn.Linear(d_input, d_hidden)\n",
        "        self.fc2 = nn.Linear(d_hidden, d_output)\n",
        "        self.activation = activation\n",
        "        self.gate_act = gate_act\n",
        "        self.softmax = nn.Softmax()\n",
        "\n",
        "    def forward(self,x):\n",
        "        x1 = self.fc1(x)\n",
        "        x1 = self.activation(x1)\n",
        "\n",
        "        x_gate = self.fc_gate(x)\n",
        "        x_gate = self.gate_act(x_gate)\n",
        "\n",
        "        x2 = x1 * x_gate\n",
        "        x2 = self.fc2(x2)\n",
        "        x2 = self.softmax(x2)\n",
        "        return x2"
      ],
      "metadata": {
        "id": "fHQPGJxMkx0H"
      },
      "execution_count": null,
      "outputs": []
    },
    {
      "cell_type": "code",
      "source": [
        "import os\n",
        "import sys\n",
        "\n",
        "if not os.path.exists('/content/efficient-kan'):\n",
        "    !git clone https://github.com/Blealtan/efficient-kan\n",
        "\n",
        "if '/content/efficient-kan/src' not in sys.path:\n",
        "    sys.path.append('/content/efficient-kan/src')\n",
        "\n",
        "sys.path"
      ],
      "metadata": {
        "colab": {
          "base_uri": "https://localhost:8080/"
        },
        "id": "RnTtBBmk_1G4",
        "outputId": "9babd4b5-c4c5-45ac-dd65-e03647841baf"
      },
      "execution_count": null,
      "outputs": [
        {
          "output_type": "stream",
          "name": "stdout",
          "text": [
            "Cloning into 'efficient-kan'...\n",
            "remote: Enumerating objects: 84, done.\u001b[K\n",
            "remote: Counting objects: 100% (28/28), done.\u001b[K\n",
            "remote: Compressing objects: 100% (15/15), done.\u001b[K\n",
            "remote: Total 84 (delta 19), reused 14 (delta 13), pack-reused 56\u001b[K\n",
            "Receiving objects: 100% (84/84), 31.41 KiB | 1.26 MiB/s, done.\n",
            "Resolving deltas: 100% (31/31), done.\n"
          ]
        },
        {
          "output_type": "execute_result",
          "data": {
            "text/plain": [
              "['/content',\n",
              " '/env/python',\n",
              " '/usr/lib/python310.zip',\n",
              " '/usr/lib/python3.10',\n",
              " '/usr/lib/python3.10/lib-dynload',\n",
              " '',\n",
              " '/usr/local/lib/python3.10/dist-packages',\n",
              " '/usr/lib/python3/dist-packages',\n",
              " '/usr/local/lib/python3.10/dist-packages/IPython/extensions',\n",
              " '/root/.ipython',\n",
              " '/content/efficient-kan/src']"
            ]
          },
          "metadata": {},
          "execution_count": 16
        }
      ]
    },
    {
      "cell_type": "code",
      "source": [
        "from efficient_kan import KANLinear"
      ],
      "metadata": {
        "id": "1fH5PMFHBOKA"
      },
      "execution_count": null,
      "outputs": []
    },
    {
      "cell_type": "code",
      "source": [
        "class KAN(nn.Module):\n",
        "    def __init__(self, d_input, d_hidden, d_output):\n",
        "        super(KAN, self).__init__()\n",
        "        self.fc1 = KANLinear(d_input, d_hidden)\n",
        "        self.fc2 = KANLinear(d_hidden, d_output)\n",
        "\n",
        "    def forward(self,x):\n",
        "        x = self.fc1(x)\n",
        "        x = self.fc2(x)\n",
        "        return x"
      ],
      "metadata": {
        "id": "WLWFRUX9D2z9"
      },
      "execution_count": null,
      "outputs": []
    },
    {
      "cell_type": "markdown",
      "source": [
        "### Train model"
      ],
      "metadata": {
        "id": "XPJPdzOaOee-"
      }
    },
    {
      "cell_type": "code",
      "source": [
        "# Create MLP model\n",
        "MLP_model = MLP(d_input=768, d_hidden=1024, d_output=6, activation=SinLU())\n",
        "MLP_model.to(device)\n",
        "\n",
        "# Optimizer and loss function\n",
        "optimizer_1 = optim.AdamW(MLP_model.parameters(), lr=0.001, weight_decay=0.01)\n",
        "criterion_1 = nn.CrossEntropyLoss()"
      ],
      "metadata": {
        "id": "R75YaCv-Ooot"
      },
      "execution_count": null,
      "outputs": []
    },
    {
      "cell_type": "code",
      "source": [
        "# Create GLU model\n",
        "GLU1_model = GLU(d_input=768, d_hidden=1024, d_output=6, activation=SinLU(), gate_act=nn.Sigmoid())\n",
        "GLU1_model.to(device)\n",
        "\n",
        "# Optimizer and loss function\n",
        "optimizer1_2 = optim.AdamW(GLU1_model.parameters(), lr=0.01, weight_decay=0.01)\n",
        "criterion1_2 = nn.CrossEntropyLoss()"
      ],
      "metadata": {
        "id": "HMo-C1yQlj0H"
      },
      "execution_count": null,
      "outputs": []
    },
    {
      "cell_type": "code",
      "source": [
        "# Create GLU model\n",
        "GLU2_model = GLU(d_input=768, d_hidden=1024, d_output=6, activation=SinLU(), gate_act=myActivation())\n",
        "GLU2_model.to(device)\n",
        "\n",
        "# Optimizer and loss function\n",
        "optimizer2_2 = optim.AdamW(GLU2_model.parameters(), lr=0.01, weight_decay=0.01)\n",
        "criterion2_2 = nn.CrossEntropyLoss()"
      ],
      "metadata": {
        "id": "Wilyv76t98uq"
      },
      "execution_count": null,
      "outputs": []
    },
    {
      "cell_type": "code",
      "source": [
        "# Create KAN model\n",
        "KAN_model = KAN(d_input=768, d_hidden=256, d_output=6)\n",
        "KAN_model.to(device)\n",
        "\n",
        "# Optimizer and loss function\n",
        "optimizer_3 = optim.AdamW(KAN_model.parameters(), lr=0.001, weight_decay=0.01)\n",
        "criterion_3 = nn.CrossEntropyLoss()"
      ],
      "metadata": {
        "id": "kNZa_9_jD-9V"
      },
      "execution_count": null,
      "outputs": []
    },
    {
      "cell_type": "code",
      "source": [
        "# Create smaller KAN model\n",
        "KAN_model_small = KANLinear(768, 6)\n",
        "KAN_model_small.to(device)\n",
        "\n",
        "# Optimizer and loss function\n",
        "optimizer_4 = optim.AdamW(KAN_model_small.parameters(), lr=0.001, weight_decay=0.01)\n",
        "criterion_4 = nn.CrossEntropyLoss()"
      ],
      "metadata": {
        "id": "pBddvWTlF1mD"
      },
      "execution_count": null,
      "outputs": []
    },
    {
      "cell_type": "code",
      "source": [
        "def train_model(model, train_dataloader, X_val, y_val, optimizer, criterion, num_epochs=10):\n",
        "    train_loss_list = []\n",
        "    val_loss_list = []\n",
        "\n",
        "    # For each epoch\n",
        "    for epoch in range(num_epochs):\n",
        "        # Switch to train mode\n",
        "        model.train()\n",
        "\n",
        "        train_loss = 0.0\n",
        "\n",
        "        # For each batch\n",
        "        for X_batch, y_batch in train_dataloader:\n",
        "            X_batch = X_batch.to(device)\n",
        "            y_batch = y_batch.to(device)\n",
        "\n",
        "            # Delete all gradient\n",
        "            optimizer.zero_grad()\n",
        "\n",
        "            # Forward\n",
        "            y_pred = model(X_batch)\n",
        "\n",
        "            # Calculate loss\n",
        "            l = criterion(y_pred, y_batch)\n",
        "\n",
        "            # Calculate gradient\n",
        "            l.backward()\n",
        "\n",
        "            # Update weights\n",
        "            optimizer.step()\n",
        "\n",
        "            train_loss += l.item()\n",
        "\n",
        "        train_loss /= len(train_dataloader)\n",
        "        train_loss_list.append(train_loss)\n",
        "\n",
        "        # Evaluate\n",
        "        model.eval()\n",
        "\n",
        "        y_pred = model(X_val)\n",
        "        val_loss = criterion(y_pred, y_val)\n",
        "        val_loss_list.append(val_loss.item())\n",
        "\n",
        "        # Print loss\n",
        "        print(f'Epoch {epoch + 1}, Train Loss: {train_loss}, Val Loss: {val_loss}')\n",
        "\n",
        "    return train_loss_list, val_loss_list"
      ],
      "metadata": {
        "id": "D2EEnL0TlqZn"
      },
      "execution_count": null,
      "outputs": []
    },
    {
      "cell_type": "code",
      "execution_count": null,
      "metadata": {
        "colab": {
          "base_uri": "https://localhost:8080/"
        },
        "id": "ApWWozcRottf",
        "outputId": "58e581ed-356c-4cae-92a1-2e56dce12e5a",
        "collapsed": true
      },
      "outputs": [
        {
          "output_type": "stream",
          "name": "stdout",
          "text": [
            "Epoch 1, Train Loss: 1.282015734248691, Val Loss: 1.4817112684249878\n",
            "Epoch 2, Train Loss: 1.2795498371124268, Val Loss: 1.4830026626586914\n",
            "Epoch 3, Train Loss: 1.2777910364998712, Val Loss: 1.4826747179031372\n",
            "Epoch 4, Train Loss: 1.2760816547605727, Val Loss: 1.4826679229736328\n",
            "Epoch 5, Train Loss: 1.2740093602074518, Val Loss: 1.4824533462524414\n",
            "Epoch 6, Train Loss: 1.272022008895874, Val Loss: 1.4833974838256836\n",
            "Epoch 7, Train Loss: 1.2700294786029391, Val Loss: 1.4840214252471924\n",
            "Epoch 8, Train Loss: 1.2683391571044922, Val Loss: 1.4845463037490845\n",
            "Epoch 9, Train Loss: 1.2667152616712782, Val Loss: 1.4857255220413208\n",
            "Epoch 10, Train Loss: 1.2652675840589735, Val Loss: 1.4846340417861938\n",
            "Epoch 11, Train Loss: 1.263928188218011, Val Loss: 1.4855951070785522\n",
            "Epoch 12, Train Loss: 1.2622599469290838, Val Loss: 1.4856517314910889\n",
            "Epoch 13, Train Loss: 1.2609340482287936, Val Loss: 1.4874591827392578\n",
            "Epoch 14, Train Loss: 1.2598049773110285, Val Loss: 1.4876629114151\n",
            "Epoch 15, Train Loss: 1.2584325340059068, Val Loss: 1.4863654375076294\n",
            "Epoch 16, Train Loss: 1.2573369211620755, Val Loss: 1.4865694046020508\n",
            "Epoch 17, Train Loss: 1.256317867173089, Val Loss: 1.4871349334716797\n",
            "Epoch 18, Train Loss: 1.25534102651808, Val Loss: 1.4877456426620483\n",
            "Epoch 19, Train Loss: 1.2542101542154949, Val Loss: 1.4881232976913452\n",
            "Epoch 20, Train Loss: 1.2531920936372545, Val Loss: 1.4881998300552368\n",
            "Epoch 21, Train Loss: 1.2504917118284438, Val Loss: 1.4767624139785767\n",
            "Epoch 22, Train Loss: 1.2413474983639188, Val Loss: 1.4660447835922241\n",
            "Epoch 23, Train Loss: 1.229890889591641, Val Loss: 1.457182765007019\n",
            "Epoch 24, Train Loss: 1.221697621875339, Val Loss: 1.4524741172790527\n",
            "Epoch 25, Train Loss: 1.2161110639572144, Val Loss: 1.4504477977752686\n",
            "Epoch 26, Train Loss: 1.2114529477225409, Val Loss: 1.4500492811203003\n",
            "Epoch 27, Train Loss: 1.207558512687683, Val Loss: 1.4496082067489624\n",
            "Epoch 28, Train Loss: 1.2045088476604886, Val Loss: 1.4503227472305298\n",
            "Epoch 29, Train Loss: 1.2018383079104953, Val Loss: 1.4497026205062866\n",
            "Epoch 30, Train Loss: 1.1994860967000325, Val Loss: 1.4499518871307373\n",
            "Epoch 31, Train Loss: 1.1973492701848347, Val Loss: 1.4503716230392456\n",
            "Epoch 32, Train Loss: 1.1954493920008342, Val Loss: 1.4519309997558594\n",
            "Epoch 33, Train Loss: 1.193398528628879, Val Loss: 1.451548457145691\n",
            "Epoch 34, Train Loss: 1.1910994450251262, Val Loss: 1.4505716562271118\n",
            "Epoch 35, Train Loss: 1.1888950533337064, Val Loss: 1.452641487121582\n",
            "Epoch 36, Train Loss: 1.1862669653362699, Val Loss: 1.4523792266845703\n",
            "Epoch 37, Train Loss: 1.1834506458706326, Val Loss: 1.4503535032272339\n",
            "Epoch 38, Train Loss: 1.180559065606859, Val Loss: 1.451635479927063\n",
            "Epoch 39, Train Loss: 1.1777567731009588, Val Loss: 1.4510838985443115\n",
            "Epoch 40, Train Loss: 1.1752467155456543, Val Loss: 1.4504978656768799\n",
            "Epoch 41, Train Loss: 1.1730226940578885, Val Loss: 1.4495024681091309\n",
            "Epoch 42, Train Loss: 1.1709969308641222, Val Loss: 1.4506288766860962\n",
            "Epoch 43, Train Loss: 1.169140378634135, Val Loss: 1.4496793746948242\n",
            "Epoch 44, Train Loss: 1.167493873172336, Val Loss: 1.45121169090271\n",
            "Epoch 45, Train Loss: 1.1659235556920369, Val Loss: 1.4503507614135742\n",
            "Epoch 46, Train Loss: 1.164448857307434, Val Loss: 1.4497007131576538\n",
            "Epoch 47, Train Loss: 1.163347641626994, Val Loss: 1.4505198001861572\n",
            "Epoch 48, Train Loss: 1.1620917055341933, Val Loss: 1.4510923624038696\n",
            "Epoch 49, Train Loss: 1.1608769761191473, Val Loss: 1.4505857229232788\n",
            "Epoch 50, Train Loss: 1.1597699721654255, Val Loss: 1.4525463581085205\n"
          ]
        }
      ],
      "source": [
        "MLP_train_loss_list, MLP_val_loss_list = train_model(MLP_model, train_dataloader,\n",
        "                                                     X_val, y_val, optimizer_1,\n",
        "                                                     criterion_1, num_epochs=50)"
      ]
    },
    {
      "cell_type": "code",
      "source": [
        "GLU1_train_loss_list, GLU1_val_loss_list = train_model(GLU1_model, train_dataloader,\n",
        "                                                     X_val, y_val, optimizer1_2,\n",
        "                                                     criterion1_2, num_epochs=50)"
      ],
      "metadata": {
        "colab": {
          "base_uri": "https://localhost:8080/"
        },
        "id": "YhZH6KtSmA2V",
        "outputId": "ae851a2a-2c0d-4036-c5e3-ad5a3decc889",
        "collapsed": true
      },
      "execution_count": null,
      "outputs": [
        {
          "output_type": "stream",
          "name": "stderr",
          "text": [
            "/usr/local/lib/python3.10/dist-packages/torch/nn/modules/module.py:1532: UserWarning: Implicit dimension choice for softmax has been deprecated. Change the call to include dim=X as an argument.\n",
            "  return self._call_impl(*args, **kwargs)\n"
          ]
        },
        {
          "output_type": "stream",
          "name": "stdout",
          "text": [
            "Epoch 1, Train Loss: 1.6358147064844768, Val Loss: 1.6751664876937866\n",
            "Epoch 2, Train Loss: 1.6336953904893663, Val Loss: 1.677376389503479\n",
            "Epoch 3, Train Loss: 1.6324004067314997, Val Loss: 1.6826989650726318\n",
            "Epoch 4, Train Loss: 1.631719946861267, Val Loss: 1.6770844459533691\n",
            "Epoch 5, Train Loss: 1.6309133768081665, Val Loss: 1.676300048828125\n",
            "Epoch 6, Train Loss: 1.6299440728293524, Val Loss: 1.682038426399231\n",
            "Epoch 7, Train Loss: 1.6285968621571858, Val Loss: 1.677304983139038\n",
            "Epoch 8, Train Loss: 1.6280794143676758, Val Loss: 1.6826962232589722\n",
            "Epoch 9, Train Loss: 1.6271313163969252, Val Loss: 1.6790446043014526\n",
            "Epoch 10, Train Loss: 1.626834299829271, Val Loss: 1.6785825490951538\n",
            "Epoch 11, Train Loss: 1.625929554303487, Val Loss: 1.6823827028274536\n",
            "Epoch 12, Train Loss: 1.6258414321475558, Val Loss: 1.682539463043213\n",
            "Epoch 13, Train Loss: 1.6251908143361409, Val Loss: 1.677618384361267\n",
            "Epoch 14, Train Loss: 1.6254819101757474, Val Loss: 1.681125521659851\n",
            "Epoch 15, Train Loss: 1.6247946288850572, Val Loss: 1.6890912055969238\n",
            "Epoch 16, Train Loss: 1.6253123945660062, Val Loss: 1.6781131029129028\n",
            "Epoch 17, Train Loss: 1.6238928900824652, Val Loss: 1.6801187992095947\n",
            "Epoch 18, Train Loss: 1.6224695311652289, Val Loss: 1.6804895401000977\n",
            "Epoch 19, Train Loss: 1.6219851705763075, Val Loss: 1.6820368766784668\n",
            "Epoch 20, Train Loss: 1.6208806567721896, Val Loss: 1.6821422576904297\n",
            "Epoch 21, Train Loss: 1.6204121510187786, Val Loss: 1.684007167816162\n",
            "Epoch 22, Train Loss: 1.6190409660339355, Val Loss: 1.6786900758743286\n",
            "Epoch 23, Train Loss: 1.6739032930798001, Val Loss: 1.7002668380737305\n",
            "Epoch 24, Train Loss: 1.6728084352281358, Val Loss: 1.6734817028045654\n",
            "Epoch 25, Train Loss: 1.6540935304429796, Val Loss: 1.6731055974960327\n",
            "Epoch 26, Train Loss: 1.6435664892196655, Val Loss: 1.6775808334350586\n",
            "Epoch 27, Train Loss: 1.6411174535751343, Val Loss: 1.6837159395217896\n",
            "Epoch 28, Train Loss: 1.6387025117874146, Val Loss: 1.6836282014846802\n",
            "Epoch 29, Train Loss: 1.6351965268452961, Val Loss: 1.6835458278656006\n",
            "Epoch 30, Train Loss: 1.6328278382619221, Val Loss: 1.6790542602539062\n",
            "Epoch 31, Train Loss: 1.6313620938195124, Val Loss: 1.6790223121643066\n",
            "Epoch 32, Train Loss: 1.629442572593689, Val Loss: 1.6810752153396606\n",
            "Epoch 33, Train Loss: 1.6284264591005113, Val Loss: 1.6778494119644165\n",
            "Epoch 34, Train Loss: 1.6269859472910564, Val Loss: 1.680665373802185\n",
            "Epoch 35, Train Loss: 1.6265282763375177, Val Loss: 1.6779125928878784\n",
            "Epoch 36, Train Loss: 1.6270534329944186, Val Loss: 1.6764968633651733\n",
            "Epoch 37, Train Loss: 1.6177034113142226, Val Loss: 1.6804829835891724\n",
            "Epoch 38, Train Loss: 1.5960703955756292, Val Loss: 1.6643911600112915\n",
            "Epoch 39, Train Loss: 1.5833134121365018, Val Loss: 1.6513087749481201\n",
            "Epoch 40, Train Loss: 1.5757654772864447, Val Loss: 1.6442209482192993\n",
            "Epoch 41, Train Loss: 1.5676570071114435, Val Loss: 1.646183967590332\n",
            "Epoch 42, Train Loss: 1.5676209926605225, Val Loss: 1.644924283027649\n",
            "Epoch 43, Train Loss: 1.562039852142334, Val Loss: 1.6415741443634033\n",
            "Epoch 44, Train Loss: 1.564167234632704, Val Loss: 1.6375789642333984\n",
            "Epoch 45, Train Loss: 1.5587919685575697, Val Loss: 1.6394872665405273\n",
            "Epoch 46, Train Loss: 1.5548260344399347, Val Loss: 1.6348711252212524\n",
            "Epoch 47, Train Loss: 1.553211702240838, Val Loss: 1.6386348009109497\n",
            "Epoch 48, Train Loss: 1.5542278289794922, Val Loss: 1.6316338777542114\n",
            "Epoch 49, Train Loss: 1.556470923953586, Val Loss: 1.6330031156539917\n",
            "Epoch 50, Train Loss: 1.5519052743911743, Val Loss: 1.6344926357269287\n"
          ]
        }
      ]
    },
    {
      "cell_type": "code",
      "source": [
        "GLU2_train_loss_list, GLU2_val_loss_list = train_model(GLU2_model, train_dataloader,\n",
        "                                                     X_val, y_val, optimizer2_2,\n",
        "                                                     criterion2_2, num_epochs=50)"
      ],
      "metadata": {
        "colab": {
          "base_uri": "https://localhost:8080/"
        },
        "id": "vslVr6xf-KYa",
        "outputId": "0eeca2b2-cc7d-4903-ceb9-a3d59ca188df",
        "collapsed": true
      },
      "execution_count": null,
      "outputs": [
        {
          "output_type": "stream",
          "name": "stdout",
          "text": [
            "Epoch 1, Train Loss: 1.7695978747473822, Val Loss: 1.7626653909683228\n",
            "Epoch 2, Train Loss: 1.7346530093087091, Val Loss: 1.7171127796173096\n",
            "Epoch 3, Train Loss: 1.7165747086207073, Val Loss: 1.7106001377105713\n",
            "Epoch 4, Train Loss: 1.7080769406424627, Val Loss: 1.7083414793014526\n",
            "Epoch 5, Train Loss: 1.7031269073486328, Val Loss: 1.704128623008728\n",
            "Epoch 6, Train Loss: 1.6993484761979845, Val Loss: 1.690704584121704\n",
            "Epoch 7, Train Loss: 1.6967167854309082, Val Loss: 1.6897778511047363\n",
            "Epoch 8, Train Loss: 1.6944997840457492, Val Loss: 1.6860624551773071\n",
            "Epoch 9, Train Loss: 1.6900284157858954, Val Loss: 1.6851935386657715\n",
            "Epoch 10, Train Loss: 1.6890753640068903, Val Loss: 1.6844502687454224\n",
            "Epoch 11, Train Loss: 1.687457071410285, Val Loss: 1.6820591688156128\n",
            "Epoch 12, Train Loss: 1.6882195870081584, Val Loss: 1.6885753870010376\n",
            "Epoch 13, Train Loss: 1.6869198348787096, Val Loss: 1.6852426528930664\n",
            "Epoch 14, Train Loss: 1.6835511260562472, Val Loss: 1.677058219909668\n",
            "Epoch 15, Train Loss: 1.6828717125786676, Val Loss: 1.6790461540222168\n",
            "Epoch 16, Train Loss: 1.6827627420425415, Val Loss: 1.6800317764282227\n",
            "Epoch 17, Train Loss: 1.6792745060390897, Val Loss: 1.6775468587875366\n",
            "Epoch 18, Train Loss: 1.6788504388597276, Val Loss: 1.684280514717102\n",
            "Epoch 19, Train Loss: 1.6805255942874484, Val Loss: 1.6814457178115845\n",
            "Epoch 20, Train Loss: 1.6786947382820978, Val Loss: 1.679476022720337\n",
            "Epoch 21, Train Loss: 1.6764349804984198, Val Loss: 1.677283763885498\n",
            "Epoch 22, Train Loss: 1.6747959189944797, Val Loss: 1.6781225204467773\n",
            "Epoch 23, Train Loss: 1.6738684839672513, Val Loss: 1.676864504814148\n",
            "Epoch 24, Train Loss: 1.671804322136773, Val Loss: 1.6763688325881958\n",
            "Epoch 25, Train Loss: 1.6750023365020752, Val Loss: 1.6800729036331177\n",
            "Epoch 26, Train Loss: 1.6759821308983698, Val Loss: 1.6823279857635498\n",
            "Epoch 27, Train Loss: 1.6752156284120348, Val Loss: 1.686069369316101\n",
            "Epoch 28, Train Loss: 1.6755623287624783, Val Loss: 1.6775325536727905\n",
            "Epoch 29, Train Loss: 1.6751623815960355, Val Loss: 1.6902296543121338\n",
            "Epoch 30, Train Loss: 1.6747161149978638, Val Loss: 1.6758029460906982\n",
            "Epoch 31, Train Loss: 1.6716030306286283, Val Loss: 1.6809536218643188\n",
            "Epoch 32, Train Loss: 1.672394037246704, Val Loss: 1.6772464513778687\n",
            "Epoch 33, Train Loss: 1.6718047989739313, Val Loss: 1.67625093460083\n",
            "Epoch 34, Train Loss: 1.6719221538967557, Val Loss: 1.683072566986084\n",
            "Epoch 35, Train Loss: 1.6711804866790771, Val Loss: 1.68826162815094\n",
            "Epoch 36, Train Loss: 1.6720228062735663, Val Loss: 1.6786242723464966\n",
            "Epoch 37, Train Loss: 1.6693606509102716, Val Loss: 1.6779505014419556\n",
            "Epoch 38, Train Loss: 1.6678199370702107, Val Loss: 1.6777042150497437\n",
            "Epoch 39, Train Loss: 1.6697804133097331, Val Loss: 1.6784979104995728\n",
            "Epoch 40, Train Loss: 1.667911860677931, Val Loss: 1.6785435676574707\n",
            "Epoch 41, Train Loss: 1.6665839619106717, Val Loss: 1.6777465343475342\n",
            "Epoch 42, Train Loss: 1.6665260791778564, Val Loss: 1.6797776222229004\n",
            "Epoch 43, Train Loss: 1.6646184788809881, Val Loss: 1.6748425960540771\n",
            "Epoch 44, Train Loss: 1.6632505125469632, Val Loss: 1.6804112195968628\n",
            "Epoch 45, Train Loss: 1.6654876073201497, Val Loss: 1.677384853363037\n",
            "Epoch 46, Train Loss: 1.6639204422632854, Val Loss: 1.6752245426177979\n",
            "Epoch 47, Train Loss: 1.662309143278334, Val Loss: 1.6811233758926392\n",
            "Epoch 48, Train Loss: 1.6634583208296034, Val Loss: 1.683087706565857\n",
            "Epoch 49, Train Loss: 1.6619815958870783, Val Loss: 1.6792598962783813\n",
            "Epoch 50, Train Loss: 1.6617533895704482, Val Loss: 1.6770567893981934\n"
          ]
        }
      ]
    },
    {
      "cell_type": "code",
      "source": [
        "KAN_train_loss_list, KAN_val_loss_list = train_model(KAN_model, train_dataloader,\n",
        "                                                     X_val, y_val, optimizer_3,\n",
        "                                                     criterion_3, num_epochs=50)"
      ],
      "metadata": {
        "colab": {
          "base_uri": "https://localhost:8080/"
        },
        "collapsed": true,
        "id": "di_--BVJELot",
        "outputId": "3433f7af-f429-4a4e-9b2f-b7aa90c2a979"
      },
      "execution_count": null,
      "outputs": [
        {
          "output_type": "stream",
          "name": "stdout",
          "text": [
            "Epoch 1, Train Loss: 1.5537621710035536, Val Loss: 1.4891053438186646\n",
            "Epoch 2, Train Loss: 1.3263039191563923, Val Loss: 1.317208170890808\n",
            "Epoch 3, Train Loss: 1.1881203518973456, Val Loss: 1.1995067596435547\n",
            "Epoch 4, Train Loss: 1.0968089236153498, Val Loss: 1.116530418395996\n",
            "Epoch 5, Train Loss: 1.0383940007951524, Val Loss: 1.0718563795089722\n",
            "Epoch 6, Train Loss: 1.0003129376305475, Val Loss: 1.0446674823760986\n",
            "Epoch 7, Train Loss: 0.975780016846127, Val Loss: 1.0276118516921997\n",
            "Epoch 8, Train Loss: 0.9559553133116828, Val Loss: 1.0162131786346436\n",
            "Epoch 9, Train Loss: 0.9420798619588217, Val Loss: 1.0111644268035889\n",
            "Epoch 10, Train Loss: 0.9305258923106723, Val Loss: 1.0039362907409668\n",
            "Epoch 11, Train Loss: 0.9199235174391005, Val Loss: 1.0017704963684082\n",
            "Epoch 12, Train Loss: 0.9111906753646003, Val Loss: 0.9997480511665344\n",
            "Epoch 13, Train Loss: 0.9044617679384019, Val Loss: 0.9963125586509705\n",
            "Epoch 14, Train Loss: 0.8955031169785393, Val Loss: 0.9975759983062744\n",
            "Epoch 15, Train Loss: 0.8886103563838534, Val Loss: 0.9969083070755005\n",
            "Epoch 16, Train Loss: 0.882080164220598, Val Loss: 0.9946379065513611\n",
            "Epoch 17, Train Loss: 0.8767157859272428, Val Loss: 0.9962509870529175\n",
            "Epoch 18, Train Loss: 0.8695422344737582, Val Loss: 0.9958757162094116\n",
            "Epoch 19, Train Loss: 0.8632524212201437, Val Loss: 0.9997697472572327\n",
            "Epoch 20, Train Loss: 0.8565484748946296, Val Loss: 0.9949867725372314\n",
            "Epoch 21, Train Loss: 0.8476179440816244, Val Loss: 0.9985554218292236\n",
            "Epoch 22, Train Loss: 0.8415376014179654, Val Loss: 0.9959561228752136\n",
            "Epoch 23, Train Loss: 0.833167831103007, Val Loss: 0.9991068243980408\n",
            "Epoch 24, Train Loss: 0.8262881702846951, Val Loss: 1.0000308752059937\n",
            "Epoch 25, Train Loss: 0.8187278972731696, Val Loss: 1.0010465383529663\n",
            "Epoch 26, Train Loss: 0.8099326292673746, Val Loss: 1.0032215118408203\n",
            "Epoch 27, Train Loss: 0.8016955720053779, Val Loss: 1.005362629890442\n",
            "Epoch 28, Train Loss: 0.7925089266565111, Val Loss: 1.005631446838379\n",
            "Epoch 29, Train Loss: 0.7826696766747369, Val Loss: 1.009687066078186\n",
            "Epoch 30, Train Loss: 0.7748037444220649, Val Loss: 1.0260921716690063\n",
            "Epoch 31, Train Loss: 0.7607876592212253, Val Loss: 1.0211032629013062\n",
            "Epoch 32, Train Loss: 0.749113592836592, Val Loss: 1.0438158512115479\n",
            "Epoch 33, Train Loss: 0.7361683779292636, Val Loss: 1.0216368436813354\n",
            "Epoch 34, Train Loss: 0.7195433179537455, Val Loss: 1.0332534313201904\n",
            "Epoch 35, Train Loss: 0.7033976780043708, Val Loss: 1.0385875701904297\n",
            "Epoch 36, Train Loss: 0.6852829390101962, Val Loss: 1.0540962219238281\n",
            "Epoch 37, Train Loss: 0.6682794358995225, Val Loss: 1.0521272420883179\n",
            "Epoch 38, Train Loss: 0.6486733423338996, Val Loss: 1.051222324371338\n",
            "Epoch 39, Train Loss: 0.6273903250694275, Val Loss: 1.0640113353729248\n",
            "Epoch 40, Train Loss: 0.6031774812274509, Val Loss: 1.0706965923309326\n",
            "Epoch 41, Train Loss: 0.5802673233879937, Val Loss: 1.083898901939392\n",
            "Epoch 42, Train Loss: 0.5581108132998148, Val Loss: 1.0957590341567993\n",
            "Epoch 43, Train Loss: 0.532869193289015, Val Loss: 1.1043176651000977\n",
            "Epoch 44, Train Loss: 0.5045978261364831, Val Loss: 1.1174081563949585\n",
            "Epoch 45, Train Loss: 0.4778355525599586, Val Loss: 1.1399484872817993\n",
            "Epoch 46, Train Loss: 0.45061905185381573, Val Loss: 1.1554603576660156\n",
            "Epoch 47, Train Loss: 0.4244731532202827, Val Loss: 1.1634855270385742\n",
            "Epoch 48, Train Loss: 0.39565123120943707, Val Loss: 1.1826647520065308\n",
            "Epoch 49, Train Loss: 0.3690578209029304, Val Loss: 1.2028781175613403\n",
            "Epoch 50, Train Loss: 0.34027983082665336, Val Loss: 1.2192339897155762\n"
          ]
        }
      ]
    },
    {
      "cell_type": "code",
      "source": [
        "KAN_small_loss_list, KAN_small_val_loss_list = train_model(KAN_model_small, train_dataloader,\n",
        "                                                     X_val, y_val, optimizer_4,\n",
        "                                                     criterion_4, num_epochs=50)"
      ],
      "metadata": {
        "colab": {
          "base_uri": "https://localhost:8080/"
        },
        "collapsed": true,
        "id": "QIcpDpgHGFBa",
        "outputId": "b0290294-8cef-44ef-8988-73dd4838f9ec"
      },
      "execution_count": null,
      "outputs": [
        {
          "output_type": "stream",
          "name": "stdout",
          "text": [
            "Epoch 1, Train Loss: 1.6512742969724867, Val Loss: 1.5697605609893799\n",
            "Epoch 2, Train Loss: 1.4684407711029053, Val Loss: 1.4646533727645874\n",
            "Epoch 3, Train Loss: 1.382506012916565, Val Loss: 1.3989529609680176\n",
            "Epoch 4, Train Loss: 1.312274005677965, Val Loss: 1.3404393196105957\n",
            "Epoch 5, Train Loss: 1.2574710316128201, Val Loss: 1.2900071144104004\n",
            "Epoch 6, Train Loss: 1.215335077709622, Val Loss: 1.250285267829895\n",
            "Epoch 7, Train Loss: 1.1793698999616835, Val Loss: 1.2158340215682983\n",
            "Epoch 8, Train Loss: 1.1489470534854465, Val Loss: 1.1893270015716553\n",
            "Epoch 9, Train Loss: 1.1224881013234456, Val Loss: 1.1656246185302734\n",
            "Epoch 10, Train Loss: 1.0996456013785467, Val Loss: 1.1474319696426392\n",
            "Epoch 11, Train Loss: 1.079424884584215, Val Loss: 1.1288717985153198\n",
            "Epoch 12, Train Loss: 1.0612368053860135, Val Loss: 1.1117844581604004\n",
            "Epoch 13, Train Loss: 1.0450421306822035, Val Loss: 1.0986303091049194\n",
            "Epoch 14, Train Loss: 1.0304102102915447, Val Loss: 1.0864076614379883\n",
            "Epoch 15, Train Loss: 1.017150600751241, Val Loss: 1.0758309364318848\n",
            "Epoch 16, Train Loss: 1.005387869146135, Val Loss: 1.0682284832000732\n",
            "Epoch 17, Train Loss: 0.9943204323450724, Val Loss: 1.0601118803024292\n",
            "Epoch 18, Train Loss: 0.984105560514662, Val Loss: 1.0532935857772827\n",
            "Epoch 19, Train Loss: 0.9746669001049466, Val Loss: 1.0478435754776\n",
            "Epoch 20, Train Loss: 0.9661391311221652, Val Loss: 1.0419113636016846\n",
            "Epoch 21, Train Loss: 0.9583385520511203, Val Loss: 1.0394468307495117\n",
            "Epoch 22, Train Loss: 0.9508153200149536, Val Loss: 1.0344419479370117\n",
            "Epoch 23, Train Loss: 0.9438969492912292, Val Loss: 1.0335267782211304\n",
            "Epoch 24, Train Loss: 0.9373998443285624, Val Loss: 1.031126856803894\n",
            "Epoch 25, Train Loss: 0.9316880305608114, Val Loss: 1.026041865348816\n",
            "Epoch 26, Train Loss: 0.9259147180451287, Val Loss: 1.0235871076583862\n",
            "Epoch 27, Train Loss: 0.9206451773643494, Val Loss: 1.0229278802871704\n",
            "Epoch 28, Train Loss: 0.9156303273306953, Val Loss: 1.022484540939331\n",
            "Epoch 29, Train Loss: 0.9107953376240201, Val Loss: 1.0199110507965088\n",
            "Epoch 30, Train Loss: 0.9069227245118883, Val Loss: 1.016593098640442\n",
            "Epoch 31, Train Loss: 0.9019108944469028, Val Loss: 1.0148539543151855\n",
            "Epoch 32, Train Loss: 0.8977449403868781, Val Loss: 1.0155845880508423\n",
            "Epoch 33, Train Loss: 0.8941129843393961, Val Loss: 1.0147110223770142\n",
            "Epoch 34, Train Loss: 0.8905860053168403, Val Loss: 1.016190767288208\n",
            "Epoch 35, Train Loss: 0.8871828118960062, Val Loss: 1.0130563974380493\n",
            "Epoch 36, Train Loss: 0.8842525879542033, Val Loss: 1.0122772455215454\n",
            "Epoch 37, Train Loss: 0.8804901176028781, Val Loss: 1.0137109756469727\n",
            "Epoch 38, Train Loss: 0.8777659204271104, Val Loss: 1.013759970664978\n",
            "Epoch 39, Train Loss: 0.8746533526314629, Val Loss: 1.0138952732086182\n",
            "Epoch 40, Train Loss: 0.871384342511495, Val Loss: 1.0136747360229492\n",
            "Epoch 41, Train Loss: 0.8688710331916809, Val Loss: 1.0136858224868774\n",
            "Epoch 42, Train Loss: 0.8665112521913316, Val Loss: 1.0132392644882202\n",
            "Epoch 43, Train Loss: 0.8641732600000169, Val Loss: 1.011640191078186\n",
            "Epoch 44, Train Loss: 0.8615357610914443, Val Loss: 1.013413429260254\n",
            "Epoch 45, Train Loss: 0.8586784402529398, Val Loss: 1.0142463445663452\n",
            "Epoch 46, Train Loss: 0.856383760770162, Val Loss: 1.0148673057556152\n",
            "Epoch 47, Train Loss: 0.8545137180222405, Val Loss: 1.0174174308776855\n",
            "Epoch 48, Train Loss: 0.8524063958062066, Val Loss: 1.0181573629379272\n",
            "Epoch 49, Train Loss: 0.8503429492314657, Val Loss: 1.019058108329773\n",
            "Epoch 50, Train Loss: 0.8482425014177958, Val Loss: 1.0162822008132935\n"
          ]
        }
      ]
    },
    {
      "cell_type": "markdown",
      "source": [
        "### Visualize loss"
      ],
      "metadata": {
        "id": "5NAuR5LdTUlE"
      }
    },
    {
      "cell_type": "code",
      "source": [
        "import matplotlib.pyplot as plt\n",
        "\n",
        "plt.plot(GLU1_train_loss_list, label='GLU1 Train Loss')\n",
        "plt.plot(GLU1_val_loss_list, label='GLU1 Val Loss')\n",
        "plt.plot(GLU2_train_loss_list, label='GLU2 Train Loss')\n",
        "plt.plot(GLU2_val_loss_list, label='GLU2 Val Loss')\n",
        "plt.legend()\n",
        "plt.legend()"
      ],
      "metadata": {
        "colab": {
          "base_uri": "https://localhost:8080/",
          "height": 447
        },
        "id": "OvUHLMl4-Th5",
        "outputId": "22250ab4-b24e-41e6-ff38-7dd31084a7f8"
      },
      "execution_count": null,
      "outputs": [
        {
          "output_type": "execute_result",
          "data": {
            "text/plain": [
              "<matplotlib.legend.Legend at 0x7c5310ca42b0>"
            ]
          },
          "metadata": {},
          "execution_count": 33
        },
        {
          "output_type": "display_data",
          "data": {
            "text/plain": [
              "<Figure size 640x480 with 1 Axes>"
            ],
            "image/png": "[encoded data removed]"
          },
          "metadata": {}
        }
      ]
    },
    {
      "cell_type": "code",
      "source": [
        "import matplotlib.pyplot as plt\n",
        "\n",
        "plt.plot(MLP_train_loss_list, label='MLP Train Loss')\n",
        "plt.plot(GLU_train_loss_list, label='GLU Train Loss')\n",
        "plt.plot(KAN_train_loss_list, label='KAN Train Loss')\n",
        "plt.plot(KAN_small_loss_list, label='KAN Small Train Loss')\n",
        "plt.legend()\n",
        "plt.title('MLP vs GLU vs KAN vs KANLinear')\n",
        "plt.show()"
      ],
      "metadata": {
        "colab": {
          "base_uri": "https://localhost:8080/",
          "height": 452
        },
        "id": "ZDkUjFdlTR41",
        "outputId": "020063f6-7483-4def-d90d-783f6f466e62"
      },
      "execution_count": null,
      "outputs": [
        {
          "output_type": "display_data",
          "data": {
            "text/plain": [
              "<Figure size 640x480 with 1 Axes>"
            ],
            "image/png": "[encoded data removed]"
          },
          "metadata": {}
        }
      ]
    },
    {
      "cell_type": "code",
      "source": [
        "plt.plot(MLP_val_loss_list, label='MLP Val Loss')\n",
        "plt.plot(GLU_val_loss_list, label='GLU Val Loss')\n",
        "plt.plot(KAN_val_loss_list, label='KAN Val Loss')\n",
        "plt.plot(KAN_small_val_loss_list, label='KAN Small Val Loss')\n",
        "plt.legend()\n",
        "plt.title('MLP vs GLU vs KAN vs KANLinear')\n",
        "plt.show()"
      ],
      "metadata": {
        "colab": {
          "base_uri": "https://localhost:8080/",
          "height": 452
        },
        "id": "ZvHZF6PDGwJE",
        "outputId": "05350977-c5a8-45ca-d9dd-e0d82af1ad40"
      },
      "execution_count": null,
      "outputs": [
        {
          "output_type": "display_data",
          "data": {
            "text/plain": [
              "<Figure size 640x480 with 1 Axes>"
            ],
            "image/png": "[encoded data removed]"
          },
          "metadata": {}
        }
      ]
    },
    {
      "cell_type": "markdown",
      "source": [
        "### Evaluation"
      ],
      "metadata": {
        "id": "gxK5oD2ObM9f"
      }
    },
    {
      "cell_type": "code",
      "source": [
        "from sklearn.metrics import confusion_matrix, accuracy_score, f1_score, precision_score, recall_score\n",
        "\n",
        "def evaluate_model(model, X_val, y_val):\n",
        "    model.eval()\n",
        "\n",
        "    y_pred = model(X_val)\n",
        "    label_pred = torch.argmax(y_pred, dim=1).cpu()\n",
        "    label_true = torch.argmax(y_val, dim=1).cpu()\n",
        "\n",
        "    cm = confusion_matrix(label_true, label_pred)\n",
        "    acc = accuracy_score(label_true, label_pred)\n",
        "    f1 = f1_score(label_true, label_pred, average='macro')\n",
        "    precision = precision_score(label_true, label_pred, average='macro')\n",
        "    recall = recall_score(label_true, label_pred, average='macro')\n",
        "\n",
        "    return cm, acc, f1, precision, recall"
      ],
      "metadata": {
        "id": "T5S3_g3ypJwj"
      },
      "execution_count": null,
      "outputs": []
    },
    {
      "cell_type": "code",
      "source": [
        "cm, acc, f1, precision, recall = evaluate_model(MLP_model, X_val, y_val)\n",
        "print('Confusion matrix\\n', cm)\n",
        "print('Accuracy:', acc)\n",
        "print('F1 score:', f1)\n",
        "print('Precision:', precision)\n",
        "print('Recall:', recall)"
      ],
      "metadata": {
        "colab": {
          "base_uri": "https://localhost:8080/"
        },
        "id": "39Btu_TRbO-o",
        "outputId": "421e3f9f-2f75-48e5-cba8-c2db9db9a7da"
      },
      "execution_count": null,
      "outputs": [
        {
          "output_type": "stream",
          "name": "stdout",
          "text": [
            "Confusion matrix\n",
            " [[ 679  112  152  149   69   36]\n",
            " [ 165 1470  476  323  104   57]\n",
            " [ 132  335 1866  410   63   56]\n",
            " [ 112  344  379 1074   82   68]\n",
            " [  78   92   67   72  638    5]\n",
            " [  26   64   83   83   16  167]]\n",
            "Accuracy: 0.5833333333333334\n",
            "F1 score: 0.5618127843068155\n",
            "Precision: 0.5649230989189075\n",
            "Recall: 0.5596512646515532\n"
          ]
        }
      ]
    },
    {
      "cell_type": "code",
      "source": [
        "cm, acc, f1, precision, recall = evaluate_model(GLU_model, X_val, y_val)\n",
        "print('Confusion matrix\\n', cm)\n",
        "print('Accuracy:', acc)\n",
        "print('F1 score:', f1)\n",
        "print('Precision:', precision)\n",
        "print('Recall:', recall)"
      ],
      "metadata": {
        "colab": {
          "base_uri": "https://localhost:8080/"
        },
        "id": "6QtlqORkpce7",
        "outputId": "b2f48520-418b-4ce9-8feb-687dadcfa412"
      },
      "execution_count": null,
      "outputs": [
        {
          "output_type": "stream",
          "name": "stdout",
          "text": [
            "Confusion matrix\n",
            " [[ 675  117  164  138   74   29]\n",
            " [ 180 1492  465  326   83   49]\n",
            " [ 152  346 1903  353   58   50]\n",
            " [ 109  348  404 1060   76   62]\n",
            " [  78   98   52   68  649    7]\n",
            " [  31   70   91   69   16  162]]\n",
            "Accuracy: 0.58798495645289\n",
            "F1 score: 0.5656429576719113\n",
            "Precision: 0.5715536518798612\n",
            "Recall: 0.5615562412897966\n"
          ]
        },
        {
          "output_type": "stream",
          "name": "stderr",
          "text": [
            "/usr/local/lib/python3.10/dist-packages/torch/nn/modules/module.py:1532: UserWarning: Implicit dimension choice for softmax has been deprecated. Change the call to include dim=X as an argument.\n",
            "  return self._call_impl(*args, **kwargs)\n"
          ]
        }
      ]
    },
    {
      "cell_type": "code",
      "source": [
        "cm, acc, f1, precision, recall = evaluate_model(KAN_model, X_val, y_val)\n",
        "print('Confusion matrix\\n', cm)\n",
        "print('Accuracy:', acc)\n",
        "print('F1 score:', f1)\n",
        "print('Precision:', precision)\n",
        "print('Recall:', recall)"
      ],
      "metadata": {
        "colab": {
          "base_uri": "https://localhost:8080/"
        },
        "id": "rvtAftDcHFYl",
        "outputId": "5405a640-d70f-4eb4-e206-4098134b0de5"
      },
      "execution_count": null,
      "outputs": [
        {
          "output_type": "stream",
          "name": "stdout",
          "text": [
            "Confusion matrix\n",
            " [[ 634  145  193  132   63   30]\n",
            " [ 180 1548  447  292   94   34]\n",
            " [ 134  410 1817  400   61   40]\n",
            " [ 139  404  422  963   82   49]\n",
            " [  93  106   69   63  618    3]\n",
            " [  26   77   96   69   16  155]]\n",
            "Accuracy: 0.567596991290578\n",
            "F1 score: 0.5469400967857991\n",
            "Precision: 0.5599946393922098\n",
            "Recall: 0.5384995986253843\n"
          ]
        }
      ]
    },
    {
      "cell_type": "code",
      "source": [
        "cm, acc, f1, precision, recall = evaluate_model(KAN_model_small, X_val, y_val)\n",
        "print('Confusion matrix\\n', cm)\n",
        "print('Accuracy:', acc)\n",
        "print('F1 score:', f1)\n",
        "print('Precision:', precision)\n",
        "print('Recall:', recall)"
      ],
      "metadata": {
        "colab": {
          "base_uri": "https://localhost:8080/"
        },
        "id": "QFwlzwf_HHKq",
        "outputId": "bb6b6e4f-49c5-422c-8a98-b0e99aac4212"
      },
      "execution_count": null,
      "outputs": [
        {
          "output_type": "stream",
          "name": "stdout",
          "text": [
            "Confusion matrix\n",
            " [[ 662  123  188  154   51   19]\n",
            " [ 166 1600  441  292   79   17]\n",
            " [ 130  352 1933  370   46   31]\n",
            " [ 107  365  391 1083   66   47]\n",
            " [  87  101   70   53  639    2]\n",
            " [  25   75   96   71   13  159]]\n",
            "Accuracy: 0.6013460015835312\n",
            "F1 score: 0.5810803980950312\n",
            "Precision: 0.603684680314329\n",
            "Recall: 0.5674016995058604\n"
          ]
        }
      ]
    }
  ]
}